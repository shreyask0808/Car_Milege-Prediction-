{
 "cells": [
  {
   "cell_type": "code",
   "execution_count": 1,
   "id": "9c5e1b4e",
   "metadata": {
    "ExecuteTime": {
     "end_time": "2022-12-24T08:55:01.106416Z",
     "start_time": "2022-12-24T08:54:19.009906Z"
    }
   },
   "outputs": [],
   "source": [
    "import numpy as np\n",
    "import pandas as pd \n",
    "\n",
    "\n",
    "from sklearn.linear_model import LinearRegression\n",
    "from sklearn.model_selection import train_test_split\n",
    "from sklearn.metrics import mean_absolute_error,mean_squared_error,r2_score\n",
    "from statsmodels.stats.outliers_influence import variance_inflation_factor\n",
    "import matplotlib.pyplot as plt\n",
    "import seaborn as sns\n",
    "\n"
   ]
  },
  {
   "cell_type": "code",
   "execution_count": 2,
   "id": "edb278f2",
   "metadata": {
    "ExecuteTime": {
     "end_time": "2022-12-24T08:55:05.183509Z",
     "start_time": "2022-12-24T08:55:04.691824Z"
    }
   },
   "outputs": [
    {
     "data": {
      "text/html": [
       "<div>\n",
       "<style scoped>\n",
       "    .dataframe tbody tr th:only-of-type {\n",
       "        vertical-align: middle;\n",
       "    }\n",
       "\n",
       "    .dataframe tbody tr th {\n",
       "        vertical-align: top;\n",
       "    }\n",
       "\n",
       "    .dataframe thead th {\n",
       "        text-align: right;\n",
       "    }\n",
       "</style>\n",
       "<table border=\"1\" class=\"dataframe\">\n",
       "  <thead>\n",
       "    <tr style=\"text-align: right;\">\n",
       "      <th></th>\n",
       "      <th>mpg</th>\n",
       "      <th>cyl</th>\n",
       "      <th>disp</th>\n",
       "      <th>hp</th>\n",
       "      <th>wt</th>\n",
       "      <th>acc</th>\n",
       "      <th>yr</th>\n",
       "      <th>origin</th>\n",
       "      <th>car_type</th>\n",
       "      <th>car_name</th>\n",
       "    </tr>\n",
       "  </thead>\n",
       "  <tbody>\n",
       "    <tr>\n",
       "      <th>0</th>\n",
       "      <td>18.0</td>\n",
       "      <td>8</td>\n",
       "      <td>307.0</td>\n",
       "      <td>130</td>\n",
       "      <td>3504</td>\n",
       "      <td>12.0</td>\n",
       "      <td>70</td>\n",
       "      <td>1</td>\n",
       "      <td>0</td>\n",
       "      <td>chevrolet chevelle malibu</td>\n",
       "    </tr>\n",
       "    <tr>\n",
       "      <th>1</th>\n",
       "      <td>15.0</td>\n",
       "      <td>8</td>\n",
       "      <td>350.0</td>\n",
       "      <td>165</td>\n",
       "      <td>3693</td>\n",
       "      <td>11.5</td>\n",
       "      <td>70</td>\n",
       "      <td>1</td>\n",
       "      <td>0</td>\n",
       "      <td>buick skylark 320</td>\n",
       "    </tr>\n",
       "    <tr>\n",
       "      <th>2</th>\n",
       "      <td>18.0</td>\n",
       "      <td>8</td>\n",
       "      <td>318.0</td>\n",
       "      <td>150</td>\n",
       "      <td>3436</td>\n",
       "      <td>11.0</td>\n",
       "      <td>70</td>\n",
       "      <td>1</td>\n",
       "      <td>0</td>\n",
       "      <td>plymouth satellite</td>\n",
       "    </tr>\n",
       "    <tr>\n",
       "      <th>3</th>\n",
       "      <td>16.0</td>\n",
       "      <td>8</td>\n",
       "      <td>304.0</td>\n",
       "      <td>150</td>\n",
       "      <td>3433</td>\n",
       "      <td>12.0</td>\n",
       "      <td>70</td>\n",
       "      <td>1</td>\n",
       "      <td>0</td>\n",
       "      <td>amc rebel sst</td>\n",
       "    </tr>\n",
       "    <tr>\n",
       "      <th>4</th>\n",
       "      <td>17.0</td>\n",
       "      <td>8</td>\n",
       "      <td>302.0</td>\n",
       "      <td>140</td>\n",
       "      <td>3449</td>\n",
       "      <td>10.5</td>\n",
       "      <td>70</td>\n",
       "      <td>1</td>\n",
       "      <td>0</td>\n",
       "      <td>ford torino</td>\n",
       "    </tr>\n",
       "    <tr>\n",
       "      <th>...</th>\n",
       "      <td>...</td>\n",
       "      <td>...</td>\n",
       "      <td>...</td>\n",
       "      <td>...</td>\n",
       "      <td>...</td>\n",
       "      <td>...</td>\n",
       "      <td>...</td>\n",
       "      <td>...</td>\n",
       "      <td>...</td>\n",
       "      <td>...</td>\n",
       "    </tr>\n",
       "    <tr>\n",
       "      <th>393</th>\n",
       "      <td>27.0</td>\n",
       "      <td>4</td>\n",
       "      <td>140.0</td>\n",
       "      <td>86</td>\n",
       "      <td>2790</td>\n",
       "      <td>15.6</td>\n",
       "      <td>82</td>\n",
       "      <td>1</td>\n",
       "      <td>1</td>\n",
       "      <td>ford mustang gl</td>\n",
       "    </tr>\n",
       "    <tr>\n",
       "      <th>394</th>\n",
       "      <td>44.0</td>\n",
       "      <td>4</td>\n",
       "      <td>97.0</td>\n",
       "      <td>52</td>\n",
       "      <td>2130</td>\n",
       "      <td>24.6</td>\n",
       "      <td>82</td>\n",
       "      <td>2</td>\n",
       "      <td>1</td>\n",
       "      <td>vw pickup</td>\n",
       "    </tr>\n",
       "    <tr>\n",
       "      <th>395</th>\n",
       "      <td>32.0</td>\n",
       "      <td>4</td>\n",
       "      <td>135.0</td>\n",
       "      <td>84</td>\n",
       "      <td>2295</td>\n",
       "      <td>11.6</td>\n",
       "      <td>82</td>\n",
       "      <td>1</td>\n",
       "      <td>1</td>\n",
       "      <td>dodge rampage</td>\n",
       "    </tr>\n",
       "    <tr>\n",
       "      <th>396</th>\n",
       "      <td>28.0</td>\n",
       "      <td>4</td>\n",
       "      <td>120.0</td>\n",
       "      <td>79</td>\n",
       "      <td>2625</td>\n",
       "      <td>18.6</td>\n",
       "      <td>82</td>\n",
       "      <td>1</td>\n",
       "      <td>1</td>\n",
       "      <td>ford ranger</td>\n",
       "    </tr>\n",
       "    <tr>\n",
       "      <th>397</th>\n",
       "      <td>31.0</td>\n",
       "      <td>4</td>\n",
       "      <td>119.0</td>\n",
       "      <td>82</td>\n",
       "      <td>2720</td>\n",
       "      <td>19.4</td>\n",
       "      <td>82</td>\n",
       "      <td>1</td>\n",
       "      <td>1</td>\n",
       "      <td>chevy s-10</td>\n",
       "    </tr>\n",
       "  </tbody>\n",
       "</table>\n",
       "<p>398 rows × 10 columns</p>\n",
       "</div>"
      ],
      "text/plain": [
       "      mpg  cyl   disp   hp    wt   acc  yr  origin  car_type  \\\n",
       "0    18.0    8  307.0  130  3504  12.0  70       1         0   \n",
       "1    15.0    8  350.0  165  3693  11.5  70       1         0   \n",
       "2    18.0    8  318.0  150  3436  11.0  70       1         0   \n",
       "3    16.0    8  304.0  150  3433  12.0  70       1         0   \n",
       "4    17.0    8  302.0  140  3449  10.5  70       1         0   \n",
       "..    ...  ...    ...  ...   ...   ...  ..     ...       ...   \n",
       "393  27.0    4  140.0   86  2790  15.6  82       1         1   \n",
       "394  44.0    4   97.0   52  2130  24.6  82       2         1   \n",
       "395  32.0    4  135.0   84  2295  11.6  82       1         1   \n",
       "396  28.0    4  120.0   79  2625  18.6  82       1         1   \n",
       "397  31.0    4  119.0   82  2720  19.4  82       1         1   \n",
       "\n",
       "                      car_name  \n",
       "0    chevrolet chevelle malibu  \n",
       "1            buick skylark 320  \n",
       "2           plymouth satellite  \n",
       "3                amc rebel sst  \n",
       "4                  ford torino  \n",
       "..                         ...  \n",
       "393            ford mustang gl  \n",
       "394                  vw pickup  \n",
       "395              dodge rampage  \n",
       "396                ford ranger  \n",
       "397                 chevy s-10  \n",
       "\n",
       "[398 rows x 10 columns]"
      ]
     },
     "execution_count": 2,
     "metadata": {},
     "output_type": "execute_result"
    }
   ],
   "source": [
    "car_df=pd.read_csv('car-mpg (1).csv')\n",
    "car_df"
   ]
  },
  {
   "cell_type": "code",
   "execution_count": 3,
   "id": "7b1deffb",
   "metadata": {
    "ExecuteTime": {
     "end_time": "2022-12-24T08:55:06.330436Z",
     "start_time": "2022-12-24T08:55:06.001317Z"
    }
   },
   "outputs": [
    {
     "name": "stdout",
     "output_type": "stream",
     "text": [
      "<class 'pandas.core.frame.DataFrame'>\n",
      "RangeIndex: 398 entries, 0 to 397\n",
      "Data columns (total 10 columns):\n",
      " #   Column    Non-Null Count  Dtype  \n",
      "---  ------    --------------  -----  \n",
      " 0   mpg       398 non-null    float64\n",
      " 1   cyl       398 non-null    int64  \n",
      " 2   disp      398 non-null    float64\n",
      " 3   hp        398 non-null    object \n",
      " 4   wt        398 non-null    int64  \n",
      " 5   acc       398 non-null    float64\n",
      " 6   yr        398 non-null    int64  \n",
      " 7   origin    398 non-null    int64  \n",
      " 8   car_type  398 non-null    int64  \n",
      " 9   car_name  398 non-null    object \n",
      "dtypes: float64(3), int64(5), object(2)\n",
      "memory usage: 31.2+ KB\n"
     ]
    }
   ],
   "source": [
    "car_df.info()"
   ]
  },
  {
   "cell_type": "code",
   "execution_count": 4,
   "id": "fc94faf4",
   "metadata": {
    "ExecuteTime": {
     "end_time": "2022-12-24T08:55:07.331393Z",
     "start_time": "2022-12-24T08:55:07.288509Z"
    }
   },
   "outputs": [],
   "source": [
    "# drop the car name column as it is useless for the model\n",
    "car_df = car_df.drop('car_name', axis=1)"
   ]
  },
  {
   "cell_type": "code",
   "execution_count": 5,
   "id": "ccfc876e",
   "metadata": {
    "ExecuteTime": {
     "end_time": "2022-12-24T08:55:08.976193Z",
     "start_time": "2022-12-24T08:55:08.882045Z"
    }
   },
   "outputs": [],
   "source": [
    "car_df['hp'].replace({'?':np.nan},inplace=True)"
   ]
  },
  {
   "cell_type": "code",
   "execution_count": 6,
   "id": "7e5fb857",
   "metadata": {
    "ExecuteTime": {
     "end_time": "2022-12-24T08:55:09.992087Z",
     "start_time": "2022-12-24T08:55:09.978128Z"
    }
   },
   "outputs": [
    {
     "data": {
      "text/plain": [
       "array(['130', '165', '150', '140', '198', '220', '215', '225', '190',\n",
       "       '170', '160', '95', '97', '85', '88', '46', '87', '90', '113',\n",
       "       '200', '210', '193', nan, '100', '105', '175', '153', '180', '110',\n",
       "       '72', '86', '70', '76', '65', '69', '60', '80', '54', '208', '155',\n",
       "       '112', '92', '145', '137', '158', '167', '94', '107', '230', '49',\n",
       "       '75', '91', '122', '67', '83', '78', '52', '61', '93', '148',\n",
       "       '129', '96', '71', '98', '115', '53', '81', '79', '120', '152',\n",
       "       '102', '108', '68', '58', '149', '89', '63', '48', '66', '139',\n",
       "       '103', '125', '133', '138', '135', '142', '77', '62', '132', '84',\n",
       "       '64', '74', '116', '82'], dtype=object)"
      ]
     },
     "execution_count": 6,
     "metadata": {},
     "output_type": "execute_result"
    }
   ],
   "source": [
    "car_df['hp'].unique()"
   ]
  },
  {
   "cell_type": "code",
   "execution_count": 7,
   "id": "b7f36941",
   "metadata": {
    "ExecuteTime": {
     "end_time": "2022-12-24T08:55:11.635544Z",
     "start_time": "2022-12-24T08:55:10.695075Z"
    }
   },
   "outputs": [
    {
     "data": {
      "text/plain": [
       "nan"
      ]
     },
     "execution_count": 7,
     "metadata": {},
     "output_type": "execute_result"
    }
   ],
   "source": [
    "car_df['hp'][330]"
   ]
  },
  {
   "cell_type": "code",
   "execution_count": 8,
   "id": "b3b53860",
   "metadata": {
    "ExecuteTime": {
     "end_time": "2022-12-24T08:55:11.846559Z",
     "start_time": "2022-12-24T08:55:11.692418Z"
    }
   },
   "outputs": [
    {
     "data": {
      "text/plain": [
       "0      130.0\n",
       "1      165.0\n",
       "2      150.0\n",
       "3      150.0\n",
       "4      140.0\n",
       "       ...  \n",
       "393     86.0\n",
       "394     52.0\n",
       "395     84.0\n",
       "396     79.0\n",
       "397     82.0\n",
       "Name: hp, Length: 398, dtype: float64"
      ]
     },
     "execution_count": 8,
     "metadata": {},
     "output_type": "execute_result"
    }
   ],
   "source": [
    "car_df['hp']=car_df['hp'].astype(float)\n",
    "car_df['hp']"
   ]
  },
  {
   "cell_type": "code",
   "execution_count": 9,
   "id": "ba302ee5",
   "metadata": {
    "ExecuteTime": {
     "end_time": "2022-12-24T08:55:13.174217Z",
     "start_time": "2022-12-24T08:55:13.129337Z"
    }
   },
   "outputs": [
    {
     "name": "stdout",
     "output_type": "stream",
     "text": [
      "<class 'pandas.core.frame.DataFrame'>\n",
      "RangeIndex: 398 entries, 0 to 397\n",
      "Data columns (total 9 columns):\n",
      " #   Column    Non-Null Count  Dtype  \n",
      "---  ------    --------------  -----  \n",
      " 0   mpg       398 non-null    float64\n",
      " 1   cyl       398 non-null    int64  \n",
      " 2   disp      398 non-null    float64\n",
      " 3   hp        392 non-null    float64\n",
      " 4   wt        398 non-null    int64  \n",
      " 5   acc       398 non-null    float64\n",
      " 6   yr        398 non-null    int64  \n",
      " 7   origin    398 non-null    int64  \n",
      " 8   car_type  398 non-null    int64  \n",
      "dtypes: float64(4), int64(5)\n",
      "memory usage: 28.1 KB\n"
     ]
    }
   ],
   "source": [
    "car_df.info()"
   ]
  },
  {
   "cell_type": "code",
   "execution_count": 10,
   "id": "e1015067",
   "metadata": {
    "ExecuteTime": {
     "end_time": "2022-12-24T08:55:14.548302Z",
     "start_time": "2022-12-24T08:55:14.501417Z"
    }
   },
   "outputs": [
    {
     "data": {
      "text/plain": [
       "0      130\n",
       "1      165\n",
       "2      150\n",
       "3      150\n",
       "4      140\n",
       "      ... \n",
       "393     86\n",
       "394     52\n",
       "395     84\n",
       "396     79\n",
       "397     82\n",
       "Name: hp, Length: 398, dtype: int32"
      ]
     },
     "execution_count": 10,
     "metadata": {},
     "output_type": "execute_result"
    }
   ],
   "source": [
    "car_df['hp']=car_df['hp'].fillna(car_df['hp'].median()).astype(int)\n",
    "car_df['hp']"
   ]
  },
  {
   "cell_type": "code",
   "execution_count": 11,
   "id": "9c39219d",
   "metadata": {
    "ExecuteTime": {
     "end_time": "2022-12-24T08:55:15.445936Z",
     "start_time": "2022-12-24T08:55:15.422982Z"
    }
   },
   "outputs": [
    {
     "name": "stdout",
     "output_type": "stream",
     "text": [
      "<class 'pandas.core.frame.DataFrame'>\n",
      "RangeIndex: 398 entries, 0 to 397\n",
      "Data columns (total 9 columns):\n",
      " #   Column    Non-Null Count  Dtype  \n",
      "---  ------    --------------  -----  \n",
      " 0   mpg       398 non-null    float64\n",
      " 1   cyl       398 non-null    int64  \n",
      " 2   disp      398 non-null    float64\n",
      " 3   hp        398 non-null    int32  \n",
      " 4   wt        398 non-null    int64  \n",
      " 5   acc       398 non-null    float64\n",
      " 6   yr        398 non-null    int64  \n",
      " 7   origin    398 non-null    int64  \n",
      " 8   car_type  398 non-null    int64  \n",
      "dtypes: float64(3), int32(1), int64(5)\n",
      "memory usage: 26.6 KB\n"
     ]
    }
   ],
   "source": [
    "car_df.info()"
   ]
  },
  {
   "cell_type": "code",
   "execution_count": 12,
   "id": "7e5739cc",
   "metadata": {
    "ExecuteTime": {
     "end_time": "2022-12-24T08:55:16.195994Z",
     "start_time": "2022-12-24T08:55:16.179037Z"
    }
   },
   "outputs": [
    {
     "data": {
      "text/plain": [
       "1    249\n",
       "3     79\n",
       "2     70\n",
       "Name: origin, dtype: int64"
      ]
     },
     "execution_count": 12,
     "metadata": {},
     "output_type": "execute_result"
    }
   ],
   "source": [
    "car_df['origin'].value_counts()"
   ]
  },
  {
   "cell_type": "code",
   "execution_count": 13,
   "id": "f0eb5e9b",
   "metadata": {
    "ExecuteTime": {
     "end_time": "2022-12-24T08:55:16.990889Z",
     "start_time": "2022-12-24T08:55:16.960970Z"
    }
   },
   "outputs": [
    {
     "data": {
      "text/plain": [
       "0      america\n",
       "1      america\n",
       "2      america\n",
       "3      america\n",
       "4      america\n",
       "        ...   \n",
       "393    america\n",
       "394     europe\n",
       "395    america\n",
       "396    america\n",
       "397    america\n",
       "Name: origin, Length: 398, dtype: object"
      ]
     },
     "execution_count": 13,
     "metadata": {},
     "output_type": "execute_result"
    }
   ],
   "source": [
    "car_df['origin'] = car_df['origin'].replace({1:'america',2:'europe', 3: 'asia'})\n",
    "car_df['origin']"
   ]
  },
  {
   "cell_type": "code",
   "execution_count": 14,
   "id": "15651f45",
   "metadata": {
    "ExecuteTime": {
     "end_time": "2022-12-24T08:55:17.702728Z",
     "start_time": "2022-12-24T08:55:17.683776Z"
    }
   },
   "outputs": [
    {
     "data": {
      "text/plain": [
       "america    249\n",
       "asia        79\n",
       "europe      70\n",
       "Name: origin, dtype: int64"
      ]
     },
     "execution_count": 14,
     "metadata": {},
     "output_type": "execute_result"
    }
   ],
   "source": [
    "car_df['origin'].value_counts()"
   ]
  },
  {
   "cell_type": "code",
   "execution_count": 15,
   "id": "ce3ff47a",
   "metadata": {
    "ExecuteTime": {
     "end_time": "2022-12-24T08:55:19.883957Z",
     "start_time": "2022-12-24T08:55:19.763265Z"
    }
   },
   "outputs": [],
   "source": [
    "car_df = pd.get_dummies(car_df, columns=['origin'])"
   ]
  },
  {
   "cell_type": "code",
   "execution_count": 16,
   "id": "6be43fa0",
   "metadata": {
    "ExecuteTime": {
     "end_time": "2022-12-24T08:55:20.908916Z",
     "start_time": "2022-12-24T08:55:20.871015Z"
    }
   },
   "outputs": [
    {
     "data": {
      "text/html": [
       "<div>\n",
       "<style scoped>\n",
       "    .dataframe tbody tr th:only-of-type {\n",
       "        vertical-align: middle;\n",
       "    }\n",
       "\n",
       "    .dataframe tbody tr th {\n",
       "        vertical-align: top;\n",
       "    }\n",
       "\n",
       "    .dataframe thead th {\n",
       "        text-align: right;\n",
       "    }\n",
       "</style>\n",
       "<table border=\"1\" class=\"dataframe\">\n",
       "  <thead>\n",
       "    <tr style=\"text-align: right;\">\n",
       "      <th></th>\n",
       "      <th>mpg</th>\n",
       "      <th>cyl</th>\n",
       "      <th>disp</th>\n",
       "      <th>hp</th>\n",
       "      <th>wt</th>\n",
       "      <th>acc</th>\n",
       "      <th>yr</th>\n",
       "      <th>car_type</th>\n",
       "      <th>origin_america</th>\n",
       "      <th>origin_asia</th>\n",
       "      <th>origin_europe</th>\n",
       "    </tr>\n",
       "  </thead>\n",
       "  <tbody>\n",
       "    <tr>\n",
       "      <th>0</th>\n",
       "      <td>18.0</td>\n",
       "      <td>8</td>\n",
       "      <td>307.0</td>\n",
       "      <td>130</td>\n",
       "      <td>3504</td>\n",
       "      <td>12.0</td>\n",
       "      <td>70</td>\n",
       "      <td>0</td>\n",
       "      <td>1</td>\n",
       "      <td>0</td>\n",
       "      <td>0</td>\n",
       "    </tr>\n",
       "    <tr>\n",
       "      <th>1</th>\n",
       "      <td>15.0</td>\n",
       "      <td>8</td>\n",
       "      <td>350.0</td>\n",
       "      <td>165</td>\n",
       "      <td>3693</td>\n",
       "      <td>11.5</td>\n",
       "      <td>70</td>\n",
       "      <td>0</td>\n",
       "      <td>1</td>\n",
       "      <td>0</td>\n",
       "      <td>0</td>\n",
       "    </tr>\n",
       "    <tr>\n",
       "      <th>2</th>\n",
       "      <td>18.0</td>\n",
       "      <td>8</td>\n",
       "      <td>318.0</td>\n",
       "      <td>150</td>\n",
       "      <td>3436</td>\n",
       "      <td>11.0</td>\n",
       "      <td>70</td>\n",
       "      <td>0</td>\n",
       "      <td>1</td>\n",
       "      <td>0</td>\n",
       "      <td>0</td>\n",
       "    </tr>\n",
       "    <tr>\n",
       "      <th>3</th>\n",
       "      <td>16.0</td>\n",
       "      <td>8</td>\n",
       "      <td>304.0</td>\n",
       "      <td>150</td>\n",
       "      <td>3433</td>\n",
       "      <td>12.0</td>\n",
       "      <td>70</td>\n",
       "      <td>0</td>\n",
       "      <td>1</td>\n",
       "      <td>0</td>\n",
       "      <td>0</td>\n",
       "    </tr>\n",
       "    <tr>\n",
       "      <th>4</th>\n",
       "      <td>17.0</td>\n",
       "      <td>8</td>\n",
       "      <td>302.0</td>\n",
       "      <td>140</td>\n",
       "      <td>3449</td>\n",
       "      <td>10.5</td>\n",
       "      <td>70</td>\n",
       "      <td>0</td>\n",
       "      <td>1</td>\n",
       "      <td>0</td>\n",
       "      <td>0</td>\n",
       "    </tr>\n",
       "    <tr>\n",
       "      <th>...</th>\n",
       "      <td>...</td>\n",
       "      <td>...</td>\n",
       "      <td>...</td>\n",
       "      <td>...</td>\n",
       "      <td>...</td>\n",
       "      <td>...</td>\n",
       "      <td>...</td>\n",
       "      <td>...</td>\n",
       "      <td>...</td>\n",
       "      <td>...</td>\n",
       "      <td>...</td>\n",
       "    </tr>\n",
       "    <tr>\n",
       "      <th>393</th>\n",
       "      <td>27.0</td>\n",
       "      <td>4</td>\n",
       "      <td>140.0</td>\n",
       "      <td>86</td>\n",
       "      <td>2790</td>\n",
       "      <td>15.6</td>\n",
       "      <td>82</td>\n",
       "      <td>1</td>\n",
       "      <td>1</td>\n",
       "      <td>0</td>\n",
       "      <td>0</td>\n",
       "    </tr>\n",
       "    <tr>\n",
       "      <th>394</th>\n",
       "      <td>44.0</td>\n",
       "      <td>4</td>\n",
       "      <td>97.0</td>\n",
       "      <td>52</td>\n",
       "      <td>2130</td>\n",
       "      <td>24.6</td>\n",
       "      <td>82</td>\n",
       "      <td>1</td>\n",
       "      <td>0</td>\n",
       "      <td>0</td>\n",
       "      <td>1</td>\n",
       "    </tr>\n",
       "    <tr>\n",
       "      <th>395</th>\n",
       "      <td>32.0</td>\n",
       "      <td>4</td>\n",
       "      <td>135.0</td>\n",
       "      <td>84</td>\n",
       "      <td>2295</td>\n",
       "      <td>11.6</td>\n",
       "      <td>82</td>\n",
       "      <td>1</td>\n",
       "      <td>1</td>\n",
       "      <td>0</td>\n",
       "      <td>0</td>\n",
       "    </tr>\n",
       "    <tr>\n",
       "      <th>396</th>\n",
       "      <td>28.0</td>\n",
       "      <td>4</td>\n",
       "      <td>120.0</td>\n",
       "      <td>79</td>\n",
       "      <td>2625</td>\n",
       "      <td>18.6</td>\n",
       "      <td>82</td>\n",
       "      <td>1</td>\n",
       "      <td>1</td>\n",
       "      <td>0</td>\n",
       "      <td>0</td>\n",
       "    </tr>\n",
       "    <tr>\n",
       "      <th>397</th>\n",
       "      <td>31.0</td>\n",
       "      <td>4</td>\n",
       "      <td>119.0</td>\n",
       "      <td>82</td>\n",
       "      <td>2720</td>\n",
       "      <td>19.4</td>\n",
       "      <td>82</td>\n",
       "      <td>1</td>\n",
       "      <td>1</td>\n",
       "      <td>0</td>\n",
       "      <td>0</td>\n",
       "    </tr>\n",
       "  </tbody>\n",
       "</table>\n",
       "<p>398 rows × 11 columns</p>\n",
       "</div>"
      ],
      "text/plain": [
       "      mpg  cyl   disp   hp    wt   acc  yr  car_type  origin_america  \\\n",
       "0    18.0    8  307.0  130  3504  12.0  70         0               1   \n",
       "1    15.0    8  350.0  165  3693  11.5  70         0               1   \n",
       "2    18.0    8  318.0  150  3436  11.0  70         0               1   \n",
       "3    16.0    8  304.0  150  3433  12.0  70         0               1   \n",
       "4    17.0    8  302.0  140  3449  10.5  70         0               1   \n",
       "..    ...  ...    ...  ...   ...   ...  ..       ...             ...   \n",
       "393  27.0    4  140.0   86  2790  15.6  82         1               1   \n",
       "394  44.0    4   97.0   52  2130  24.6  82         1               0   \n",
       "395  32.0    4  135.0   84  2295  11.6  82         1               1   \n",
       "396  28.0    4  120.0   79  2625  18.6  82         1               1   \n",
       "397  31.0    4  119.0   82  2720  19.4  82         1               1   \n",
       "\n",
       "     origin_asia  origin_europe  \n",
       "0              0              0  \n",
       "1              0              0  \n",
       "2              0              0  \n",
       "3              0              0  \n",
       "4              0              0  \n",
       "..           ...            ...  \n",
       "393            0              0  \n",
       "394            0              1  \n",
       "395            0              0  \n",
       "396            0              0  \n",
       "397            0              0  \n",
       "\n",
       "[398 rows x 11 columns]"
      ]
     },
     "execution_count": 16,
     "metadata": {},
     "output_type": "execute_result"
    }
   ],
   "source": [
    "car_df"
   ]
  },
  {
   "cell_type": "code",
   "execution_count": 17,
   "id": "c2d3037d",
   "metadata": {
    "ExecuteTime": {
     "end_time": "2022-12-24T08:55:23.254404Z",
     "start_time": "2022-12-24T08:55:23.228203Z"
    }
   },
   "outputs": [
    {
     "name": "stdout",
     "output_type": "stream",
     "text": [
      "<class 'pandas.core.frame.DataFrame'>\n",
      "RangeIndex: 398 entries, 0 to 397\n",
      "Data columns (total 11 columns):\n",
      " #   Column          Non-Null Count  Dtype  \n",
      "---  ------          --------------  -----  \n",
      " 0   mpg             398 non-null    float64\n",
      " 1   cyl             398 non-null    int64  \n",
      " 2   disp            398 non-null    float64\n",
      " 3   hp              398 non-null    int32  \n",
      " 4   wt              398 non-null    int64  \n",
      " 5   acc             398 non-null    float64\n",
      " 6   yr              398 non-null    int64  \n",
      " 7   car_type        398 non-null    int64  \n",
      " 8   origin_america  398 non-null    uint8  \n",
      " 9   origin_asia     398 non-null    uint8  \n",
      " 10  origin_europe   398 non-null    uint8  \n",
      "dtypes: float64(3), int32(1), int64(4), uint8(3)\n",
      "memory usage: 24.6 KB\n"
     ]
    }
   ],
   "source": [
    "car_df.info()\n"
   ]
  },
  {
   "cell_type": "code",
   "execution_count": 18,
   "id": "edd4ddbe",
   "metadata": {
    "ExecuteTime": {
     "end_time": "2022-12-24T08:55:28.724565Z",
     "start_time": "2022-12-24T08:55:25.325895Z"
    }
   },
   "outputs": [
    {
     "data": {
      "image/png": "[encoded data removed]",
      "text/plain": [
       "<Figure size 720x720 with 1 Axes>"
      ]
     },
     "metadata": {
      "needs_background": "light"
     },
     "output_type": "display_data"
    }
   ],
   "source": [
    "cont=car_df.dtypes[(car_df.dtypes!='int') & (car_df.dtypes!='bool')].index\n",
    "plt.figure(figsize=(10,10))\n",
    "car_df[cont].boxplot(vert=0)\n",
    "plt.title('With Outliers',fontsize=16)\n",
    "plt.show()"
   ]
  },
  {
   "cell_type": "code",
   "execution_count": 19,
   "id": "1c0d71b8",
   "metadata": {
    "ExecuteTime": {
     "end_time": "2022-12-24T08:55:28.771372Z",
     "start_time": "2022-12-24T08:55:28.759277Z"
    }
   },
   "outputs": [],
   "source": [
    "def remove_outlier(col):\n",
    "    sorted(col)\n",
    "    Q1,Q3=np.percentile(col,[25,75])\n",
    "    IQR=Q3-Q1\n",
    "    lower_range= Q1-(1.5 * IQR)\n",
    "    upper_range= Q3+(1.5 * IQR)\n",
    "    return lower_range, upper_range"
   ]
  },
  {
   "cell_type": "code",
   "execution_count": 20,
   "id": "3b9f7296",
   "metadata": {
    "ExecuteTime": {
     "end_time": "2022-12-24T08:55:29.145900Z",
     "start_time": "2022-12-24T08:55:28.809269Z"
    }
   },
   "outputs": [],
   "source": [
    "for column in car_df[cont].columns:\n",
    "    lr,ur=remove_outlier(car_df[column])\n",
    "    car_df[column]=np.where(car_df[column]>ur,ur,car_df[column])\n",
    "    car_df[column]=np.where(car_df[column]<lr,lr,car_df[column])"
   ]
  },
  {
   "cell_type": "code",
   "execution_count": 21,
   "id": "64f0d8b7",
   "metadata": {
    "ExecuteTime": {
     "end_time": "2022-12-24T08:55:30.298862Z",
     "start_time": "2022-12-24T08:55:29.878781Z"
    }
   },
   "outputs": [
    {
     "data": {
      "image/png": "[encoded data removed]",
      "text/plain": [
       "<Figure size 1440x720 with 1 Axes>"
      ]
     },
     "metadata": {
      "needs_background": "light"
     },
     "output_type": "display_data"
    }
   ],
   "source": [
    "plt.figure(figsize=(20,10))\n",
    "car_df[cont].boxplot(vert=0)\n",
    "plt.title('After Outlier Removal',fontsize=16)\n",
    "plt.show()"
   ]
  },
  {
   "cell_type": "code",
   "execution_count": 22,
   "id": "b2591425",
   "metadata": {
    "ExecuteTime": {
     "end_time": "2022-12-24T08:55:31.175350Z",
     "start_time": "2022-12-24T08:55:31.140443Z"
    }
   },
   "outputs": [
    {
     "data": {
      "text/plain": [
       "mpg               0\n",
       "cyl               0\n",
       "disp              0\n",
       "hp                0\n",
       "wt                0\n",
       "acc               0\n",
       "yr                0\n",
       "car_type          0\n",
       "origin_america    0\n",
       "origin_asia       0\n",
       "origin_europe     0\n",
       "dtype: int64"
      ]
     },
     "execution_count": 22,
     "metadata": {},
     "output_type": "execute_result"
    }
   ],
   "source": [
    "car_df.isnull().sum()"
   ]
  },
  {
   "cell_type": "code",
   "execution_count": null,
   "id": "ac09afd3",
   "metadata": {},
   "outputs": [],
   "source": []
  },
  {
   "cell_type": "code",
   "execution_count": 23,
   "id": "74136782",
   "metadata": {
    "ExecuteTime": {
     "end_time": "2022-12-24T08:55:34.390136Z",
     "start_time": "2022-12-24T08:55:34.371188Z"
    }
   },
   "outputs": [],
   "source": [
    "car_df = car_df.apply(lambda x: x.fillna(x.median()),axis=0)"
   ]
  },
  {
   "cell_type": "code",
   "execution_count": 24,
   "id": "6de28f8c",
   "metadata": {
    "ExecuteTime": {
     "end_time": "2022-12-24T08:55:35.540378Z",
     "start_time": "2022-12-24T08:55:35.406992Z"
    }
   },
   "outputs": [
    {
     "data": {
      "text/html": [
       "<div>\n",
       "<style scoped>\n",
       "    .dataframe tbody tr th:only-of-type {\n",
       "        vertical-align: middle;\n",
       "    }\n",
       "\n",
       "    .dataframe tbody tr th {\n",
       "        vertical-align: top;\n",
       "    }\n",
       "\n",
       "    .dataframe thead th {\n",
       "        text-align: right;\n",
       "    }\n",
       "</style>\n",
       "<table border=\"1\" class=\"dataframe\">\n",
       "  <thead>\n",
       "    <tr style=\"text-align: right;\">\n",
       "      <th></th>\n",
       "      <th>mpg</th>\n",
       "      <th>cyl</th>\n",
       "      <th>disp</th>\n",
       "      <th>hp</th>\n",
       "      <th>wt</th>\n",
       "      <th>acc</th>\n",
       "      <th>yr</th>\n",
       "      <th>car_type</th>\n",
       "      <th>origin_america</th>\n",
       "      <th>origin_asia</th>\n",
       "      <th>origin_europe</th>\n",
       "    </tr>\n",
       "  </thead>\n",
       "  <tbody>\n",
       "    <tr>\n",
       "      <th>count</th>\n",
       "      <td>398.000000</td>\n",
       "      <td>398.000000</td>\n",
       "      <td>398.000000</td>\n",
       "      <td>398.000000</td>\n",
       "      <td>398.000000</td>\n",
       "      <td>398.000000</td>\n",
       "      <td>398.000000</td>\n",
       "      <td>398.000000</td>\n",
       "      <td>398.000000</td>\n",
       "      <td>398.0</td>\n",
       "      <td>398.0</td>\n",
       "    </tr>\n",
       "    <tr>\n",
       "      <th>mean</th>\n",
       "      <td>23.513693</td>\n",
       "      <td>5.454774</td>\n",
       "      <td>193.425879</td>\n",
       "      <td>104.296482</td>\n",
       "      <td>2970.424623</td>\n",
       "      <td>15.552010</td>\n",
       "      <td>76.010050</td>\n",
       "      <td>0.530151</td>\n",
       "      <td>0.625628</td>\n",
       "      <td>0.0</td>\n",
       "      <td>0.0</td>\n",
       "    </tr>\n",
       "    <tr>\n",
       "      <th>std</th>\n",
       "      <td>7.813400</td>\n",
       "      <td>1.701004</td>\n",
       "      <td>104.269838</td>\n",
       "      <td>38.224809</td>\n",
       "      <td>846.841774</td>\n",
       "      <td>2.693089</td>\n",
       "      <td>3.697627</td>\n",
       "      <td>0.499718</td>\n",
       "      <td>0.484569</td>\n",
       "      <td>0.0</td>\n",
       "      <td>0.0</td>\n",
       "    </tr>\n",
       "    <tr>\n",
       "      <th>min</th>\n",
       "      <td>9.000000</td>\n",
       "      <td>3.000000</td>\n",
       "      <td>68.000000</td>\n",
       "      <td>46.000000</td>\n",
       "      <td>1613.000000</td>\n",
       "      <td>8.800000</td>\n",
       "      <td>70.000000</td>\n",
       "      <td>0.000000</td>\n",
       "      <td>0.000000</td>\n",
       "      <td>0.0</td>\n",
       "      <td>0.0</td>\n",
       "    </tr>\n",
       "    <tr>\n",
       "      <th>25%</th>\n",
       "      <td>17.500000</td>\n",
       "      <td>4.000000</td>\n",
       "      <td>104.250000</td>\n",
       "      <td>76.000000</td>\n",
       "      <td>2223.750000</td>\n",
       "      <td>13.825000</td>\n",
       "      <td>73.000000</td>\n",
       "      <td>0.000000</td>\n",
       "      <td>0.000000</td>\n",
       "      <td>0.0</td>\n",
       "      <td>0.0</td>\n",
       "    </tr>\n",
       "    <tr>\n",
       "      <th>50%</th>\n",
       "      <td>23.000000</td>\n",
       "      <td>4.000000</td>\n",
       "      <td>148.500000</td>\n",
       "      <td>93.000000</td>\n",
       "      <td>2803.500000</td>\n",
       "      <td>15.500000</td>\n",
       "      <td>76.000000</td>\n",
       "      <td>1.000000</td>\n",
       "      <td>1.000000</td>\n",
       "      <td>0.0</td>\n",
       "      <td>0.0</td>\n",
       "    </tr>\n",
       "    <tr>\n",
       "      <th>75%</th>\n",
       "      <td>29.000000</td>\n",
       "      <td>8.000000</td>\n",
       "      <td>262.000000</td>\n",
       "      <td>125.000000</td>\n",
       "      <td>3608.000000</td>\n",
       "      <td>17.175000</td>\n",
       "      <td>79.000000</td>\n",
       "      <td>1.000000</td>\n",
       "      <td>1.000000</td>\n",
       "      <td>0.0</td>\n",
       "      <td>0.0</td>\n",
       "    </tr>\n",
       "    <tr>\n",
       "      <th>max</th>\n",
       "      <td>46.250000</td>\n",
       "      <td>8.000000</td>\n",
       "      <td>455.000000</td>\n",
       "      <td>230.000000</td>\n",
       "      <td>5140.000000</td>\n",
       "      <td>22.200000</td>\n",
       "      <td>82.000000</td>\n",
       "      <td>1.000000</td>\n",
       "      <td>1.000000</td>\n",
       "      <td>0.0</td>\n",
       "      <td>0.0</td>\n",
       "    </tr>\n",
       "  </tbody>\n",
       "</table>\n",
       "</div>"
      ],
      "text/plain": [
       "              mpg         cyl        disp          hp           wt  \\\n",
       "count  398.000000  398.000000  398.000000  398.000000   398.000000   \n",
       "mean    23.513693    5.454774  193.425879  104.296482  2970.424623   \n",
       "std      7.813400    1.701004  104.269838   38.224809   846.841774   \n",
       "min      9.000000    3.000000   68.000000   46.000000  1613.000000   \n",
       "25%     17.500000    4.000000  104.250000   76.000000  2223.750000   \n",
       "50%     23.000000    4.000000  148.500000   93.000000  2803.500000   \n",
       "75%     29.000000    8.000000  262.000000  125.000000  3608.000000   \n",
       "max     46.250000    8.000000  455.000000  230.000000  5140.000000   \n",
       "\n",
       "              acc          yr    car_type  origin_america  origin_asia  \\\n",
       "count  398.000000  398.000000  398.000000      398.000000        398.0   \n",
       "mean    15.552010   76.010050    0.530151        0.625628          0.0   \n",
       "std      2.693089    3.697627    0.499718        0.484569          0.0   \n",
       "min      8.800000   70.000000    0.000000        0.000000          0.0   \n",
       "25%     13.825000   73.000000    0.000000        0.000000          0.0   \n",
       "50%     15.500000   76.000000    1.000000        1.000000          0.0   \n",
       "75%     17.175000   79.000000    1.000000        1.000000          0.0   \n",
       "max     22.200000   82.000000    1.000000        1.000000          0.0   \n",
       "\n",
       "       origin_europe  \n",
       "count          398.0  \n",
       "mean             0.0  \n",
       "std              0.0  \n",
       "min              0.0  \n",
       "25%              0.0  \n",
       "50%              0.0  \n",
       "75%              0.0  \n",
       "max              0.0  "
      ]
     },
     "execution_count": 24,
     "metadata": {},
     "output_type": "execute_result"
    }
   ],
   "source": [
    "car_df.describe()"
   ]
  },
  {
   "cell_type": "code",
   "execution_count": 25,
   "id": "580d0074",
   "metadata": {
    "ExecuteTime": {
     "end_time": "2022-12-24T08:55:37.180529Z",
     "start_time": "2022-12-24T08:55:37.136646Z"
    }
   },
   "outputs": [
    {
     "data": {
      "text/html": [
       "<div>\n",
       "<style scoped>\n",
       "    .dataframe tbody tr th:only-of-type {\n",
       "        vertical-align: middle;\n",
       "    }\n",
       "\n",
       "    .dataframe tbody tr th {\n",
       "        vertical-align: top;\n",
       "    }\n",
       "\n",
       "    .dataframe thead th {\n",
       "        text-align: right;\n",
       "    }\n",
       "</style>\n",
       "<table border=\"1\" class=\"dataframe\">\n",
       "  <thead>\n",
       "    <tr style=\"text-align: right;\">\n",
       "      <th></th>\n",
       "      <th>mpg</th>\n",
       "      <th>cyl</th>\n",
       "      <th>disp</th>\n",
       "      <th>hp</th>\n",
       "      <th>wt</th>\n",
       "      <th>acc</th>\n",
       "      <th>yr</th>\n",
       "      <th>car_type</th>\n",
       "      <th>origin_america</th>\n",
       "      <th>origin_asia</th>\n",
       "      <th>origin_europe</th>\n",
       "    </tr>\n",
       "  </thead>\n",
       "  <tbody>\n",
       "    <tr>\n",
       "      <th>mpg</th>\n",
       "      <td>1.000000</td>\n",
       "      <td>-0.775556</td>\n",
       "      <td>-0.804353</td>\n",
       "      <td>-0.773662</td>\n",
       "      <td>-0.831901</td>\n",
       "      <td>0.418333</td>\n",
       "      <td>0.579337</td>\n",
       "      <td>0.759352</td>\n",
       "      <td>-0.568234</td>\n",
       "      <td>NaN</td>\n",
       "      <td>NaN</td>\n",
       "    </tr>\n",
       "    <tr>\n",
       "      <th>cyl</th>\n",
       "      <td>-0.775556</td>\n",
       "      <td>1.000000</td>\n",
       "      <td>0.950721</td>\n",
       "      <td>0.841367</td>\n",
       "      <td>0.896017</td>\n",
       "      <td>-0.509344</td>\n",
       "      <td>-0.348746</td>\n",
       "      <td>-0.912577</td>\n",
       "      <td>0.604351</td>\n",
       "      <td>NaN</td>\n",
       "      <td>NaN</td>\n",
       "    </tr>\n",
       "    <tr>\n",
       "      <th>disp</th>\n",
       "      <td>-0.804353</td>\n",
       "      <td>0.950721</td>\n",
       "      <td>1.000000</td>\n",
       "      <td>0.895849</td>\n",
       "      <td>0.932824</td>\n",
       "      <td>-0.548667</td>\n",
       "      <td>-0.370164</td>\n",
       "      <td>-0.855141</td>\n",
       "      <td>0.651407</td>\n",
       "      <td>NaN</td>\n",
       "      <td>NaN</td>\n",
       "    </tr>\n",
       "    <tr>\n",
       "      <th>hp</th>\n",
       "      <td>-0.773662</td>\n",
       "      <td>0.841367</td>\n",
       "      <td>0.895849</td>\n",
       "      <td>1.000000</td>\n",
       "      <td>0.862502</td>\n",
       "      <td>-0.691760</td>\n",
       "      <td>-0.413816</td>\n",
       "      <td>-0.701479</td>\n",
       "      <td>0.485374</td>\n",
       "      <td>NaN</td>\n",
       "      <td>NaN</td>\n",
       "    </tr>\n",
       "    <tr>\n",
       "      <th>wt</th>\n",
       "      <td>-0.831901</td>\n",
       "      <td>0.896017</td>\n",
       "      <td>0.932824</td>\n",
       "      <td>0.862502</td>\n",
       "      <td>1.000000</td>\n",
       "      <td>-0.422492</td>\n",
       "      <td>-0.306564</td>\n",
       "      <td>-0.815445</td>\n",
       "      <td>0.598398</td>\n",
       "      <td>NaN</td>\n",
       "      <td>NaN</td>\n",
       "    </tr>\n",
       "    <tr>\n",
       "      <th>acc</th>\n",
       "      <td>0.418333</td>\n",
       "      <td>-0.509344</td>\n",
       "      <td>-0.548667</td>\n",
       "      <td>-0.691760</td>\n",
       "      <td>-0.422492</td>\n",
       "      <td>1.000000</td>\n",
       "      <td>0.287122</td>\n",
       "      <td>0.386178</td>\n",
       "      <td>-0.246391</td>\n",
       "      <td>NaN</td>\n",
       "      <td>NaN</td>\n",
       "    </tr>\n",
       "    <tr>\n",
       "      <th>yr</th>\n",
       "      <td>0.579337</td>\n",
       "      <td>-0.348746</td>\n",
       "      <td>-0.370164</td>\n",
       "      <td>-0.413816</td>\n",
       "      <td>-0.306564</td>\n",
       "      <td>0.287122</td>\n",
       "      <td>1.000000</td>\n",
       "      <td>0.305194</td>\n",
       "      <td>-0.139883</td>\n",
       "      <td>NaN</td>\n",
       "      <td>NaN</td>\n",
       "    </tr>\n",
       "    <tr>\n",
       "      <th>car_type</th>\n",
       "      <td>0.759352</td>\n",
       "      <td>-0.912577</td>\n",
       "      <td>-0.855141</td>\n",
       "      <td>-0.701479</td>\n",
       "      <td>-0.815445</td>\n",
       "      <td>0.386178</td>\n",
       "      <td>0.305194</td>\n",
       "      <td>1.000000</td>\n",
       "      <td>-0.624215</td>\n",
       "      <td>NaN</td>\n",
       "      <td>NaN</td>\n",
       "    </tr>\n",
       "    <tr>\n",
       "      <th>origin_america</th>\n",
       "      <td>-0.568234</td>\n",
       "      <td>0.604351</td>\n",
       "      <td>0.651407</td>\n",
       "      <td>0.485374</td>\n",
       "      <td>0.598398</td>\n",
       "      <td>-0.246391</td>\n",
       "      <td>-0.139883</td>\n",
       "      <td>-0.624215</td>\n",
       "      <td>1.000000</td>\n",
       "      <td>NaN</td>\n",
       "      <td>NaN</td>\n",
       "    </tr>\n",
       "    <tr>\n",
       "      <th>origin_asia</th>\n",
       "      <td>NaN</td>\n",
       "      <td>NaN</td>\n",
       "      <td>NaN</td>\n",
       "      <td>NaN</td>\n",
       "      <td>NaN</td>\n",
       "      <td>NaN</td>\n",
       "      <td>NaN</td>\n",
       "      <td>NaN</td>\n",
       "      <td>NaN</td>\n",
       "      <td>NaN</td>\n",
       "      <td>NaN</td>\n",
       "    </tr>\n",
       "    <tr>\n",
       "      <th>origin_europe</th>\n",
       "      <td>NaN</td>\n",
       "      <td>NaN</td>\n",
       "      <td>NaN</td>\n",
       "      <td>NaN</td>\n",
       "      <td>NaN</td>\n",
       "      <td>NaN</td>\n",
       "      <td>NaN</td>\n",
       "      <td>NaN</td>\n",
       "      <td>NaN</td>\n",
       "      <td>NaN</td>\n",
       "      <td>NaN</td>\n",
       "    </tr>\n",
       "  </tbody>\n",
       "</table>\n",
       "</div>"
      ],
      "text/plain": [
       "                     mpg       cyl      disp        hp        wt       acc  \\\n",
       "mpg             1.000000 -0.775556 -0.804353 -0.773662 -0.831901  0.418333   \n",
       "cyl            -0.775556  1.000000  0.950721  0.841367  0.896017 -0.509344   \n",
       "disp           -0.804353  0.950721  1.000000  0.895849  0.932824 -0.548667   \n",
       "hp             -0.773662  0.841367  0.895849  1.000000  0.862502 -0.691760   \n",
       "wt             -0.831901  0.896017  0.932824  0.862502  1.000000 -0.422492   \n",
       "acc             0.418333 -0.509344 -0.548667 -0.691760 -0.422492  1.000000   \n",
       "yr              0.579337 -0.348746 -0.370164 -0.413816 -0.306564  0.287122   \n",
       "car_type        0.759352 -0.912577 -0.855141 -0.701479 -0.815445  0.386178   \n",
       "origin_america -0.568234  0.604351  0.651407  0.485374  0.598398 -0.246391   \n",
       "origin_asia          NaN       NaN       NaN       NaN       NaN       NaN   \n",
       "origin_europe        NaN       NaN       NaN       NaN       NaN       NaN   \n",
       "\n",
       "                      yr  car_type  origin_america  origin_asia  origin_europe  \n",
       "mpg             0.579337  0.759352       -0.568234          NaN            NaN  \n",
       "cyl            -0.348746 -0.912577        0.604351          NaN            NaN  \n",
       "disp           -0.370164 -0.855141        0.651407          NaN            NaN  \n",
       "hp             -0.413816 -0.701479        0.485374          NaN            NaN  \n",
       "wt             -0.306564 -0.815445        0.598398          NaN            NaN  \n",
       "acc             0.287122  0.386178       -0.246391          NaN            NaN  \n",
       "yr              1.000000  0.305194       -0.139883          NaN            NaN  \n",
       "car_type        0.305194  1.000000       -0.624215          NaN            NaN  \n",
       "origin_america -0.139883 -0.624215        1.000000          NaN            NaN  \n",
       "origin_asia          NaN       NaN             NaN          NaN            NaN  \n",
       "origin_europe        NaN       NaN             NaN          NaN            NaN  "
      ]
     },
     "execution_count": 25,
     "metadata": {},
     "output_type": "execute_result"
    }
   ],
   "source": [
    "car_df.corr()"
   ]
  },
  {
   "cell_type": "code",
   "execution_count": 26,
   "id": "94e7d1e0",
   "metadata": {
    "ExecuteTime": {
     "end_time": "2022-12-24T08:55:38.905490Z",
     "start_time": "2022-12-24T08:55:37.833256Z"
    }
   },
   "outputs": [
    {
     "data": {
      "text/plain": [
       "<AxesSubplot:>"
      ]
     },
     "execution_count": 26,
     "metadata": {},
     "output_type": "execute_result"
    },
    {
     "data": {
      "image/png": "[encoded data removed]",
      "text/plain": [
       "<Figure size 432x288 with 2 Axes>"
      ]
     },
     "metadata": {
      "needs_background": "light"
     },
     "output_type": "display_data"
    }
   ],
   "source": [
    "sns.heatmap(car_df.corr(),annot=True)"
   ]
  },
  {
   "cell_type": "code",
   "execution_count": 27,
   "id": "1bec7ed6",
   "metadata": {
    "ExecuteTime": {
     "end_time": "2022-12-24T08:56:07.635434Z",
     "start_time": "2022-12-24T08:55:38.985278Z"
    }
   },
   "outputs": [
    {
     "data": {
      "text/plain": [
       "<seaborn.axisgrid.PairGrid at 0x264a31d92e0>"
      ]
     },
     "execution_count": 27,
     "metadata": {},
     "output_type": "execute_result"
    },
    {
     "data": {
      "image/png": "[encoded data removed]",
      "text/plain": [
       "<Figure size 1980x1980 with 132 Axes>"
      ]
     },
     "metadata": {
      "needs_background": "light"
     },
     "output_type": "display_data"
    }
   ],
   "source": [
    "sns.pairplot(car_df.corr(), diag_kind='kde')"
   ]
  },
  {
   "cell_type": "code",
   "execution_count": 28,
   "id": "3876a07d",
   "metadata": {
    "ExecuteTime": {
     "end_time": "2022-12-24T08:56:09.232115Z",
     "start_time": "2022-12-24T08:56:07.685855Z"
    }
   },
   "outputs": [
    {
     "name": "stderr",
     "output_type": "stream",
     "text": [
      "D:\\anaconda\\lib\\site-packages\\statsmodels\\regression\\linear_model.py:1738: RuntimeWarning: invalid value encountered in double_scalars\n",
      "  return 1 - self.ssr/self.uncentered_tss\n"
     ]
    },
    {
     "data": {
      "text/plain": [
       "<AxesSubplot:>"
      ]
     },
     "execution_count": 28,
     "metadata": {},
     "output_type": "execute_result"
    },
    {
     "data": {
      "image/png": "[encoded data removed]",
      "text/plain": [
       "<Figure size 432x288 with 1 Axes>"
      ]
     },
     "metadata": {
      "needs_background": "light"
     },
     "output_type": "display_data"
    }
   ],
   "source": [
    "vif_list=[]\n",
    "\n",
    "for i in range(car_df.shape[1]):\n",
    "    vif=variance_inflation_factor(car_df.to_numpy(),i)\n",
    "    vif_list.append(vif)\n",
    "    \n",
    "    \n",
    "s1=pd.Series(vif_list,index=car_df.columns)\n",
    "s1.sort_values().plot(kind='barh')"
   ]
  },
  {
   "cell_type": "code",
   "execution_count": 36,
   "id": "126d8d45",
   "metadata": {
    "ExecuteTime": {
     "end_time": "2022-12-24T08:57:00.797083Z",
     "start_time": "2022-12-24T08:57:00.732255Z"
    }
   },
   "outputs": [
    {
     "data": {
      "text/html": [
       "<div>\n",
       "<style scoped>\n",
       "    .dataframe tbody tr th:only-of-type {\n",
       "        vertical-align: middle;\n",
       "    }\n",
       "\n",
       "    .dataframe tbody tr th {\n",
       "        vertical-align: top;\n",
       "    }\n",
       "\n",
       "    .dataframe thead th {\n",
       "        text-align: right;\n",
       "    }\n",
       "</style>\n",
       "<table border=\"1\" class=\"dataframe\">\n",
       "  <thead>\n",
       "    <tr style=\"text-align: right;\">\n",
       "      <th></th>\n",
       "      <th>cyl</th>\n",
       "      <th>disp</th>\n",
       "      <th>hp</th>\n",
       "      <th>wt</th>\n",
       "      <th>acc</th>\n",
       "      <th>yr</th>\n",
       "      <th>car_type</th>\n",
       "      <th>origin_america</th>\n",
       "      <th>origin_asia</th>\n",
       "      <th>origin_europe</th>\n",
       "    </tr>\n",
       "  </thead>\n",
       "  <tbody>\n",
       "    <tr>\n",
       "      <th>3</th>\n",
       "      <td>8.0</td>\n",
       "      <td>304.0</td>\n",
       "      <td>150</td>\n",
       "      <td>3433.0</td>\n",
       "      <td>12.0</td>\n",
       "      <td>70.0</td>\n",
       "      <td>0.0</td>\n",
       "      <td>1.0</td>\n",
       "      <td>0.0</td>\n",
       "      <td>0.0</td>\n",
       "    </tr>\n",
       "    <tr>\n",
       "      <th>18</th>\n",
       "      <td>4.0</td>\n",
       "      <td>97.0</td>\n",
       "      <td>88</td>\n",
       "      <td>2130.0</td>\n",
       "      <td>14.5</td>\n",
       "      <td>70.0</td>\n",
       "      <td>1.0</td>\n",
       "      <td>0.0</td>\n",
       "      <td>0.0</td>\n",
       "      <td>0.0</td>\n",
       "    </tr>\n",
       "    <tr>\n",
       "      <th>376</th>\n",
       "      <td>4.0</td>\n",
       "      <td>91.0</td>\n",
       "      <td>68</td>\n",
       "      <td>2025.0</td>\n",
       "      <td>18.2</td>\n",
       "      <td>82.0</td>\n",
       "      <td>1.0</td>\n",
       "      <td>0.0</td>\n",
       "      <td>0.0</td>\n",
       "      <td>0.0</td>\n",
       "    </tr>\n",
       "    <tr>\n",
       "      <th>248</th>\n",
       "      <td>4.0</td>\n",
       "      <td>91.0</td>\n",
       "      <td>60</td>\n",
       "      <td>1800.0</td>\n",
       "      <td>16.4</td>\n",
       "      <td>78.0</td>\n",
       "      <td>1.0</td>\n",
       "      <td>0.0</td>\n",
       "      <td>0.0</td>\n",
       "      <td>0.0</td>\n",
       "    </tr>\n",
       "    <tr>\n",
       "      <th>177</th>\n",
       "      <td>4.0</td>\n",
       "      <td>115.0</td>\n",
       "      <td>95</td>\n",
       "      <td>2694.0</td>\n",
       "      <td>15.0</td>\n",
       "      <td>75.0</td>\n",
       "      <td>1.0</td>\n",
       "      <td>0.0</td>\n",
       "      <td>0.0</td>\n",
       "      <td>0.0</td>\n",
       "    </tr>\n",
       "    <tr>\n",
       "      <th>...</th>\n",
       "      <td>...</td>\n",
       "      <td>...</td>\n",
       "      <td>...</td>\n",
       "      <td>...</td>\n",
       "      <td>...</td>\n",
       "      <td>...</td>\n",
       "      <td>...</td>\n",
       "      <td>...</td>\n",
       "      <td>...</td>\n",
       "      <td>...</td>\n",
       "    </tr>\n",
       "    <tr>\n",
       "      <th>71</th>\n",
       "      <td>3.0</td>\n",
       "      <td>70.0</td>\n",
       "      <td>97</td>\n",
       "      <td>2330.0</td>\n",
       "      <td>13.5</td>\n",
       "      <td>72.0</td>\n",
       "      <td>1.0</td>\n",
       "      <td>0.0</td>\n",
       "      <td>0.0</td>\n",
       "      <td>0.0</td>\n",
       "    </tr>\n",
       "    <tr>\n",
       "      <th>106</th>\n",
       "      <td>8.0</td>\n",
       "      <td>350.0</td>\n",
       "      <td>180</td>\n",
       "      <td>4499.0</td>\n",
       "      <td>12.5</td>\n",
       "      <td>73.0</td>\n",
       "      <td>0.0</td>\n",
       "      <td>1.0</td>\n",
       "      <td>0.0</td>\n",
       "      <td>0.0</td>\n",
       "    </tr>\n",
       "    <tr>\n",
       "      <th>270</th>\n",
       "      <td>4.0</td>\n",
       "      <td>134.0</td>\n",
       "      <td>95</td>\n",
       "      <td>2515.0</td>\n",
       "      <td>14.8</td>\n",
       "      <td>78.0</td>\n",
       "      <td>1.0</td>\n",
       "      <td>0.0</td>\n",
       "      <td>0.0</td>\n",
       "      <td>0.0</td>\n",
       "    </tr>\n",
       "    <tr>\n",
       "      <th>348</th>\n",
       "      <td>4.0</td>\n",
       "      <td>89.0</td>\n",
       "      <td>62</td>\n",
       "      <td>2050.0</td>\n",
       "      <td>17.3</td>\n",
       "      <td>81.0</td>\n",
       "      <td>1.0</td>\n",
       "      <td>0.0</td>\n",
       "      <td>0.0</td>\n",
       "      <td>0.0</td>\n",
       "    </tr>\n",
       "    <tr>\n",
       "      <th>102</th>\n",
       "      <td>4.0</td>\n",
       "      <td>97.0</td>\n",
       "      <td>46</td>\n",
       "      <td>1950.0</td>\n",
       "      <td>21.0</td>\n",
       "      <td>73.0</td>\n",
       "      <td>1.0</td>\n",
       "      <td>0.0</td>\n",
       "      <td>0.0</td>\n",
       "      <td>0.0</td>\n",
       "    </tr>\n",
       "  </tbody>\n",
       "</table>\n",
       "<p>318 rows × 10 columns</p>\n",
       "</div>"
      ],
      "text/plain": [
       "     cyl   disp   hp      wt   acc    yr  car_type  origin_america  \\\n",
       "3    8.0  304.0  150  3433.0  12.0  70.0       0.0             1.0   \n",
       "18   4.0   97.0   88  2130.0  14.5  70.0       1.0             0.0   \n",
       "376  4.0   91.0   68  2025.0  18.2  82.0       1.0             0.0   \n",
       "248  4.0   91.0   60  1800.0  16.4  78.0       1.0             0.0   \n",
       "177  4.0  115.0   95  2694.0  15.0  75.0       1.0             0.0   \n",
       "..   ...    ...  ...     ...   ...   ...       ...             ...   \n",
       "71   3.0   70.0   97  2330.0  13.5  72.0       1.0             0.0   \n",
       "106  8.0  350.0  180  4499.0  12.5  73.0       0.0             1.0   \n",
       "270  4.0  134.0   95  2515.0  14.8  78.0       1.0             0.0   \n",
       "348  4.0   89.0   62  2050.0  17.3  81.0       1.0             0.0   \n",
       "102  4.0   97.0   46  1950.0  21.0  73.0       1.0             0.0   \n",
       "\n",
       "     origin_asia  origin_europe  \n",
       "3            0.0            0.0  \n",
       "18           0.0            0.0  \n",
       "376          0.0            0.0  \n",
       "248          0.0            0.0  \n",
       "177          0.0            0.0  \n",
       "..           ...            ...  \n",
       "71           0.0            0.0  \n",
       "106          0.0            0.0  \n",
       "270          0.0            0.0  \n",
       "348          0.0            0.0  \n",
       "102          0.0            0.0  \n",
       "\n",
       "[318 rows x 10 columns]"
      ]
     },
     "execution_count": 36,
     "metadata": {},
     "output_type": "execute_result"
    }
   ],
   "source": [
    "x=car_df.drop('mpg',axis=1)\n",
    "y=car_df['mpg']\n",
    "x_train,x_test,y_train,y_test=train_test_split(x,y,test_size=0.2,random_state=42)\n",
    "x_train"
   ]
  },
  {
   "cell_type": "code",
   "execution_count": null,
   "id": "ab41830b",
   "metadata": {
    "ExecuteTime": {
     "end_time": "2022-12-18T06:41:35.161398Z",
     "start_time": "2022-12-18T06:41:34.316654Z"
    }
   },
   "outputs": [],
   "source": []
  },
  {
   "cell_type": "code",
   "execution_count": 37,
   "id": "8ab4f75f",
   "metadata": {
    "ExecuteTime": {
     "end_time": "2022-12-24T08:57:03.699677Z",
     "start_time": "2022-12-24T08:57:03.680723Z"
    }
   },
   "outputs": [
    {
     "data": {
      "text/plain": [
       "LinearRegression()"
      ]
     },
     "execution_count": 37,
     "metadata": {},
     "output_type": "execute_result"
    }
   ],
   "source": [
    "regression_model = LinearRegression()\n",
    "regression_model.fit(x_train, y_train)"
   ]
  },
  {
   "cell_type": "code",
   "execution_count": 38,
   "id": "89dbcbbd",
   "metadata": {
    "ExecuteTime": {
     "end_time": "2022-12-24T08:57:04.521718Z",
     "start_time": "2022-12-24T08:57:04.501768Z"
    }
   },
   "outputs": [
    {
     "data": {
      "text/plain": [
       "array([ 1.37775998,  0.01792578, -0.03682143, -0.00635308,  0.06827861,\n",
       "        0.78836791,  5.41440551, -2.24778639,  0.        ,  0.        ])"
      ]
     },
     "execution_count": 38,
     "metadata": {},
     "output_type": "execute_result"
    }
   ],
   "source": [
    "regression_model.coef_"
   ]
  },
  {
   "cell_type": "code",
   "execution_count": 39,
   "id": "bb80084c",
   "metadata": {
    "ExecuteTime": {
     "end_time": "2022-12-24T08:57:05.349842Z",
     "start_time": "2022-12-24T08:57:05.338871Z"
    }
   },
   "outputs": [
    {
     "data": {
      "text/plain": [
       "-27.21256304554018"
      ]
     },
     "execution_count": 39,
     "metadata": {},
     "output_type": "execute_result"
    }
   ],
   "source": [
    "regression_model.intercept_"
   ]
  },
  {
   "cell_type": "code",
   "execution_count": 40,
   "id": "5ce5dc59",
   "metadata": {
    "ExecuteTime": {
     "end_time": "2022-12-24T08:57:06.223001Z",
     "start_time": "2022-12-24T08:57:06.199064Z"
    }
   },
   "outputs": [
    {
     "data": {
      "text/plain": [
       "[('mpg', 1.3777599813015269),\n",
       " ('cyl', 0.017925781055222044),\n",
       " ('disp', -0.03682142521145349),\n",
       " ('hp', -0.006353080068133085),\n",
       " ('wt', 0.06827861325474446),\n",
       " ('acc', 0.7883679107555933),\n",
       " ('yr', 5.414405512177147),\n",
       " ('car_type', -2.247786386245425),\n",
       " ('origin_america', 0.0),\n",
       " ('origin_asia', 0.0)]"
      ]
     },
     "execution_count": 40,
     "metadata": {},
     "output_type": "execute_result"
    }
   ],
   "source": [
    "mc=zip(list(car_df.columns),list(regression_model.coef_))\n",
    "list(mc)"
   ]
  },
  {
   "cell_type": "markdown",
   "id": "d973bfbd",
   "metadata": {},
   "source": [
    "# Evaluation Parameters"
   ]
  },
  {
   "cell_type": "code",
   "execution_count": 41,
   "id": "40af214e",
   "metadata": {
    "ExecuteTime": {
     "end_time": "2022-12-24T08:57:07.885122Z",
     "start_time": "2022-12-24T08:57:07.846226Z"
    }
   },
   "outputs": [
    {
     "name": "stdout",
     "output_type": "stream",
     "text": [
      "Mean Squared Error : 7.340017333824077\n",
      "**************************************************\n",
      "Root Mean Squared Error : 2.7092466358425322\n",
      "**************************************************\n",
      "Mean Absolute Error : 2.1294015906753954\n",
      "**************************************************\n",
      "R-Squared value : 0.8634833025603618\n"
     ]
    }
   ],
   "source": [
    "#Testing Data\n",
    "\n",
    "y_pred=regression_model.predict(x_test)\n",
    "\n",
    "mse=mean_squared_error(y_test,y_pred)\n",
    "print('Mean Squared Error :',mse)\n",
    "print('*'*50)\n",
    "\n",
    "rmse=np.sqrt(mse)\n",
    "print('Root Mean Squared Error :',rmse)\n",
    "print('*'*50)\n",
    "\n",
    "mae=mean_absolute_error(y_test,y_pred)\n",
    "print('Mean Absolute Error :',mae)\n",
    "print('*'*50)\n",
    "\n",
    "r2=r2_score(y_test,y_pred)\n",
    "print('R-Squared value :',r2)\n"
   ]
  },
  {
   "cell_type": "code",
   "execution_count": 42,
   "id": "d76fce46",
   "metadata": {
    "ExecuteTime": {
     "end_time": "2022-12-24T08:57:10.490959Z",
     "start_time": "2022-12-24T08:57:10.467023Z"
    }
   },
   "outputs": [
    {
     "name": "stdout",
     "output_type": "stream",
     "text": [
      "Mean Squared Error : 10.29784976288836\n",
      "**************************************************\n",
      "Root Mean Squared Error : 3.2090262951381936\n",
      "**************************************************\n",
      "Mean Absolute Error : 2.4335759649838757\n",
      "**************************************************\n",
      "R-Squared value : 0.8634833025603618\n"
     ]
    }
   ],
   "source": [
    "#Training Data Evaluation\n",
    "\n",
    "\n",
    "y_pred_train=regression_model.predict(x_train)\n",
    "\n",
    "mse=mean_squared_error(y_train,y_pred_train)\n",
    "print('Mean Squared Error :',mse)\n",
    "print('*'*50)\n",
    "\n",
    "rmse=np.sqrt(mse)\n",
    "print('Root Mean Squared Error :',rmse)\n",
    "print('*'*50)\n",
    "\n",
    "mae=mean_absolute_error(y_train,y_pred_train)\n",
    "print('Mean Absolute Error :',mae)\n",
    "print('*'*50)\n",
    "\n",
    "r2_train=r2_score(y_train,y_pred_train)\n",
    "print('R-Squared value :',r2)"
   ]
  },
  {
   "cell_type": "markdown",
   "id": "87b07e3e",
   "metadata": {
    "ExecuteTime": {
     "start_time": "2022-11-08T11:04:58.374Z"
    }
   },
   "source": [
    "# Normality of residuals"
   ]
  },
  {
   "cell_type": "code",
   "execution_count": 43,
   "id": "dadbddc4",
   "metadata": {
    "ExecuteTime": {
     "end_time": "2022-12-24T08:57:15.040221Z",
     "start_time": "2022-12-24T08:57:15.018293Z"
    }
   },
   "outputs": [
    {
     "data": {
      "text/plain": [
       "3      0.317073\n",
       "18     2.144869\n",
       "376    1.135876\n",
       "248    1.788235\n",
       "177   -2.312887\n",
       "         ...   \n",
       "71    -3.899823\n",
       "106    0.970270\n",
       "270   -8.042126\n",
       "348    2.659445\n",
       "102   -4.354100\n",
       "Name: mpg, Length: 318, dtype: float64"
      ]
     },
     "execution_count": 43,
     "metadata": {},
     "output_type": "execute_result"
    }
   ],
   "source": [
    "Residual= y_train - y_pred_train\n",
    "Residual"
   ]
  },
  {
   "cell_type": "markdown",
   "id": "a43a5911",
   "metadata": {},
   "source": [
    "# 1. KDE plot"
   ]
  },
  {
   "cell_type": "code",
   "execution_count": 44,
   "id": "a3a6ac2d",
   "metadata": {
    "ExecuteTime": {
     "end_time": "2022-12-24T08:57:18.128700Z",
     "start_time": "2022-12-24T08:57:16.887963Z"
    }
   },
   "outputs": [
    {
     "data": {
      "text/plain": [
       "<AxesSubplot:xlabel='mpg', ylabel='Density'>"
      ]
     },
     "execution_count": 44,
     "metadata": {},
     "output_type": "execute_result"
    },
    {
     "data": {
      "image/png": "[encoded data removed]",
      "text/plain": [
       "<Figure size 432x288 with 1 Axes>"
      ]
     },
     "metadata": {
      "needs_background": "light"
     },
     "output_type": "display_data"
    }
   ],
   "source": [
    "sns.kdeplot(Residual,fill=True)"
   ]
  },
  {
   "cell_type": "code",
   "execution_count": 45,
   "id": "38ee47eb",
   "metadata": {
    "ExecuteTime": {
     "end_time": "2022-12-24T08:57:27.818147Z",
     "start_time": "2022-12-24T08:57:18.791685Z"
    }
   },
   "outputs": [],
   "source": [
    "import statsmodels.api as sm"
   ]
  },
  {
   "cell_type": "code",
   "execution_count": 46,
   "id": "322d3f5b",
   "metadata": {
    "ExecuteTime": {
     "end_time": "2022-12-24T08:57:28.339149Z",
     "start_time": "2022-12-24T08:57:27.916884Z"
    }
   },
   "outputs": [
    {
     "data": {
      "image/png": "[encoded data removed]",
      "text/plain": [
       "<Figure size 432x288 with 1 Axes>"
      ]
     },
     "execution_count": 46,
     "metadata": {},
     "output_type": "execute_result"
    },
    {
     "data": {
      "image/png": "[encoded data removed]",
      "text/plain": [
       "<Figure size 432x288 with 1 Axes>"
      ]
     },
     "metadata": {
      "needs_background": "light"
     },
     "output_type": "display_data"
    }
   ],
   "source": [
    "sm.qqplot(Residual,line='45',fit=True)"
   ]
  },
  {
   "cell_type": "code",
   "execution_count": 47,
   "id": "b3a7e445",
   "metadata": {
    "ExecuteTime": {
     "end_time": "2022-12-24T08:57:28.727764Z",
     "start_time": "2022-12-24T08:57:28.450417Z"
    }
   },
   "outputs": [
    {
     "data": {
      "text/plain": [
       "<AxesSubplot:xlabel='mpg', ylabel='mpg'>"
      ]
     },
     "execution_count": 47,
     "metadata": {},
     "output_type": "execute_result"
    },
    {
     "data": {
      "image/png": "[encoded data removed]",
      "text/plain": [
       "<Figure size 432x288 with 1 Axes>"
      ]
     },
     "metadata": {
      "needs_background": "light"
     },
     "output_type": "display_data"
    }
   ],
   "source": [
    "sns.scatterplot(x=y_train,y=Residual)"
   ]
  },
  {
   "cell_type": "code",
   "execution_count": 48,
   "id": "a8b9121c",
   "metadata": {
    "ExecuteTime": {
     "end_time": "2022-12-24T08:57:29.138603Z",
     "start_time": "2022-12-24T08:57:29.125638Z"
    }
   },
   "outputs": [],
   "source": [
    "result_dict = {'R Squared value_Train':[],'R Squared value_Test':[]}\n",
    "index = []\n"
   ]
  },
  {
   "cell_type": "code",
   "execution_count": 50,
   "id": "4a4458c2",
   "metadata": {
    "ExecuteTime": {
     "end_time": "2022-12-24T08:58:00.347045Z",
     "start_time": "2022-12-24T08:58:00.330088Z"
    }
   },
   "outputs": [],
   "source": [
    "result_dict['R Squared value_Train'].append(r2_train)\n",
    "result_dict['R Squared value_Test'].append(r2)\n",
    "index.append(\"Linear Regression model\")"
   ]
  },
  {
   "cell_type": "code",
   "execution_count": 51,
   "id": "cd7cff5c",
   "metadata": {
    "ExecuteTime": {
     "end_time": "2022-12-24T08:58:02.675437Z",
     "start_time": "2022-12-24T08:58:02.634547Z"
    }
   },
   "outputs": [
    {
     "data": {
      "text/html": [
       "<div>\n",
       "<style scoped>\n",
       "    .dataframe tbody tr th:only-of-type {\n",
       "        vertical-align: middle;\n",
       "    }\n",
       "\n",
       "    .dataframe tbody tr th {\n",
       "        vertical-align: top;\n",
       "    }\n",
       "\n",
       "    .dataframe thead th {\n",
       "        text-align: right;\n",
       "    }\n",
       "</style>\n",
       "<table border=\"1\" class=\"dataframe\">\n",
       "  <thead>\n",
       "    <tr style=\"text-align: right;\">\n",
       "      <th></th>\n",
       "      <th>cyl</th>\n",
       "      <th>disp</th>\n",
       "      <th>hp</th>\n",
       "      <th>wt</th>\n",
       "      <th>acc</th>\n",
       "      <th>yr</th>\n",
       "      <th>car_type</th>\n",
       "      <th>origin_america</th>\n",
       "      <th>origin_asia</th>\n",
       "      <th>origin_europe</th>\n",
       "    </tr>\n",
       "  </thead>\n",
       "  <tbody>\n",
       "    <tr>\n",
       "      <th>198</th>\n",
       "      <td>4.0</td>\n",
       "      <td>91.0</td>\n",
       "      <td>53</td>\n",
       "      <td>1795.0</td>\n",
       "      <td>17.4</td>\n",
       "      <td>76.0</td>\n",
       "      <td>1.0</td>\n",
       "      <td>0.0</td>\n",
       "      <td>0.0</td>\n",
       "      <td>0.0</td>\n",
       "    </tr>\n",
       "  </tbody>\n",
       "</table>\n",
       "</div>"
      ],
      "text/plain": [
       "     cyl  disp  hp      wt   acc    yr  car_type  origin_america  origin_asia  \\\n",
       "198  4.0  91.0  53  1795.0  17.4  76.0       1.0             0.0          0.0   \n",
       "\n",
       "     origin_europe  \n",
       "198            0.0  "
      ]
     },
     "execution_count": 51,
     "metadata": {},
     "output_type": "execute_result"
    }
   ],
   "source": [
    "x_test.head(1)"
   ]
  },
  {
   "cell_type": "markdown",
   "id": "5a5c4545",
   "metadata": {},
   "source": [
    "# Testing on Input"
   ]
  },
  {
   "cell_type": "code",
   "execution_count": 52,
   "id": "e05dc4e4",
   "metadata": {
    "ExecuteTime": {
     "end_time": "2022-12-24T08:58:04.938077Z",
     "start_time": "2022-12-24T08:58:04.909155Z"
    }
   },
   "outputs": [],
   "source": [
    "import pickle\n",
    "\n",
    "with open('linear_model.pkl','wb') as f:\n",
    "    pickle.dump(regression_model,f)"
   ]
  },
  {
   "cell_type": "code",
   "execution_count": 53,
   "id": "c4e491a0",
   "metadata": {
    "ExecuteTime": {
     "end_time": "2022-12-24T08:58:06.392348Z",
     "start_time": "2022-12-24T08:58:06.324653Z"
    }
   },
   "outputs": [
    {
     "data": {
      "text/plain": [
       "Index(['cyl', 'disp', 'hp', 'wt', 'acc', 'yr', 'car_type', 'origin_america',\n",
       "       'origin_asia', 'origin_europe'],\n",
       "      dtype='object')"
      ]
     },
     "execution_count": 53,
     "metadata": {},
     "output_type": "execute_result"
    }
   ],
   "source": [
    "x_test.columns"
   ]
  },
  {
   "cell_type": "code",
   "execution_count": 54,
   "id": "97d69434",
   "metadata": {
    "ExecuteTime": {
     "end_time": "2022-12-24T08:58:06.533592Z",
     "start_time": "2022-12-24T08:58:06.515566Z"
    }
   },
   "outputs": [],
   "source": [
    "cyl= 4\n",
    "disp= 350\n",
    "hp= 90\n",
    "wt= 3500\n",
    "acc= 11\n",
    "yr= 75\n",
    "car_type= 0\n",
    "origin= 'europe'"
   ]
  },
  {
   "cell_type": "code",
   "execution_count": 55,
   "id": "f2f40f56",
   "metadata": {
    "ExecuteTime": {
     "end_time": "2022-12-24T08:58:07.801035Z",
     "start_time": "2022-12-24T08:58:07.779092Z"
    }
   },
   "outputs": [
    {
     "data": {
      "text/plain": [
       "array([0, 0, 0, 0, 0, 0, 0, 0, 0, 0])"
      ]
     },
     "execution_count": 55,
     "metadata": {},
     "output_type": "execute_result"
    }
   ],
   "source": [
    "test_array=np.zeros(len(x.columns),dtype=int)\n",
    "test_array"
   ]
  },
  {
   "cell_type": "code",
   "execution_count": 56,
   "id": "52bd8c3a",
   "metadata": {
    "ExecuteTime": {
     "end_time": "2022-12-24T08:58:09.291987Z",
     "start_time": "2022-12-24T08:58:09.278022Z"
    }
   },
   "outputs": [
    {
     "data": {
      "text/plain": [
       "array([   4,  350,   90, 3500,   11,   75,    0,    0,    0,    0])"
      ]
     },
     "execution_count": 56,
     "metadata": {},
     "output_type": "execute_result"
    }
   ],
   "source": [
    "\n",
    "test_array[0]= cyl\n",
    "test_array[1]= disp\n",
    "test_array[2]= hp\n",
    "test_array[3]= wt\n",
    "test_array[4]= acc\n",
    "test_array[5]= yr\n",
    "test_array[6]= car_type\n",
    "\n",
    "origin='origin_'+'europe'\n",
    "test_array"
   ]
  },
  {
   "cell_type": "code",
   "execution_count": 57,
   "id": "18f110ee",
   "metadata": {
    "ExecuteTime": {
     "end_time": "2022-12-24T08:58:10.209867Z",
     "start_time": "2022-12-24T08:58:10.192911Z"
    }
   },
   "outputs": [
    {
     "data": {
      "text/plain": [
       "Index(['cyl', 'disp', 'hp', 'wt', 'acc', 'yr', 'car_type', 'origin_america',\n",
       "       'origin_asia', 'origin_europe'],\n",
       "      dtype='object')"
      ]
     },
     "execution_count": 57,
     "metadata": {},
     "output_type": "execute_result"
    }
   ],
   "source": [
    "column_names=x.columns\n",
    "column_names"
   ]
  },
  {
   "cell_type": "code",
   "execution_count": 58,
   "id": "c1ab89ad",
   "metadata": {
    "ExecuteTime": {
     "end_time": "2022-12-24T08:58:10.936830Z",
     "start_time": "2022-12-24T08:58:10.924864Z"
    }
   },
   "outputs": [],
   "source": [
    "origin_index=np.where(column_names==origin)[0][0]\n",
    "test_array[origin_index]=1"
   ]
  },
  {
   "cell_type": "code",
   "execution_count": 59,
   "id": "48d153b1",
   "metadata": {
    "ExecuteTime": {
     "end_time": "2022-12-24T08:58:12.475176Z",
     "start_time": "2022-12-24T08:58:12.135214Z"
    }
   },
   "outputs": [
    {
     "name": "stdout",
     "output_type": "stream",
     "text": [
      "18.9\n"
     ]
    },
    {
     "name": "stderr",
     "output_type": "stream",
     "text": [
      "D:\\anaconda\\lib\\site-packages\\sklearn\\base.py:450: UserWarning: X does not have valid feature names, but LinearRegression was fitted with feature names\n",
      "  warnings.warn(\n"
     ]
    }
   ],
   "source": [
    "print(np.around(regression_model.predict([test_array])[0],2))"
   ]
  },
  {
   "cell_type": "code",
   "execution_count": 60,
   "id": "833a8a4b",
   "metadata": {
    "ExecuteTime": {
     "end_time": "2022-12-24T08:58:13.480986Z",
     "start_time": "2022-12-24T08:58:13.459042Z"
    }
   },
   "outputs": [
    {
     "name": "stderr",
     "output_type": "stream",
     "text": [
      "D:\\anaconda\\lib\\site-packages\\sklearn\\base.py:450: UserWarning: X does not have valid feature names, but LinearRegression was fitted with feature names\n",
      "  warnings.warn(\n"
     ]
    },
    {
     "data": {
      "text/plain": [
       "array([18.90144979])"
      ]
     },
     "execution_count": 60,
     "metadata": {},
     "output_type": "execute_result"
    }
   ],
   "source": [
    "regression_model.predict([test_array])"
   ]
  },
  {
   "cell_type": "code",
   "execution_count": 61,
   "id": "54a48786",
   "metadata": {
    "ExecuteTime": {
     "end_time": "2022-12-24T08:58:15.382158Z",
     "start_time": "2022-12-24T08:58:15.274331Z"
    }
   },
   "outputs": [],
   "source": [
    "with open('linear_model.pkl','wb') as f:\n",
    "    pickle.dump(regression_model,f)"
   ]
  },
  {
   "cell_type": "markdown",
   "id": "c663533a",
   "metadata": {},
   "source": [
    "# KNN "
   ]
  },
  {
   "cell_type": "code",
   "execution_count": 62,
   "id": "4b29a566",
   "metadata": {
    "ExecuteTime": {
     "end_time": "2022-12-24T08:58:19.909435Z",
     "start_time": "2022-12-24T08:58:16.157301Z"
    }
   },
   "outputs": [],
   "source": [
    "from sklearn.neighbors import KNeighborsRegressor\n",
    "# from sklearn.preprocessing import MinMaxScaler,StandardScaler\n",
    "from sklearn.model_selection import train_test_split\n",
    "from sklearn.model_selection import GridSearchCV,RandomizedSearchCV"
   ]
  },
  {
   "cell_type": "code",
   "execution_count": 63,
   "id": "8cf222f0",
   "metadata": {
    "ExecuteTime": {
     "end_time": "2022-12-24T08:58:20.130512Z",
     "start_time": "2022-12-24T08:58:20.026682Z"
    }
   },
   "outputs": [
    {
     "data": {
      "text/plain": [
       "13.0    20\n",
       "14.0    19\n",
       "18.0    17\n",
       "15.0    16\n",
       "26.0    14\n",
       "        ..\n",
       "31.9     1\n",
       "16.9     1\n",
       "18.2     1\n",
       "22.3     1\n",
       "44.0     1\n",
       "Name: mpg, Length: 129, dtype: int64"
      ]
     },
     "execution_count": 63,
     "metadata": {},
     "output_type": "execute_result"
    }
   ],
   "source": [
    "car_df['mpg'].value_counts()"
   ]
  },
  {
   "cell_type": "markdown",
   "id": "f3a4e7f7",
   "metadata": {},
   "source": [
    "# Feature Engineering"
   ]
  },
  {
   "cell_type": "code",
   "execution_count": 64,
   "id": "361a0ea9",
   "metadata": {
    "ExecuteTime": {
     "end_time": "2022-12-24T08:58:24.116048Z",
     "start_time": "2022-12-24T08:58:24.050223Z"
    }
   },
   "outputs": [
    {
     "data": {
      "text/html": [
       "<div>\n",
       "<style scoped>\n",
       "    .dataframe tbody tr th:only-of-type {\n",
       "        vertical-align: middle;\n",
       "    }\n",
       "\n",
       "    .dataframe tbody tr th {\n",
       "        vertical-align: top;\n",
       "    }\n",
       "\n",
       "    .dataframe thead th {\n",
       "        text-align: right;\n",
       "    }\n",
       "</style>\n",
       "<table border=\"1\" class=\"dataframe\">\n",
       "  <thead>\n",
       "    <tr style=\"text-align: right;\">\n",
       "      <th></th>\n",
       "      <th>cyl</th>\n",
       "      <th>disp</th>\n",
       "      <th>hp</th>\n",
       "      <th>wt</th>\n",
       "      <th>acc</th>\n",
       "      <th>yr</th>\n",
       "      <th>car_type</th>\n",
       "      <th>origin_america</th>\n",
       "      <th>origin_asia</th>\n",
       "      <th>origin_europe</th>\n",
       "    </tr>\n",
       "  </thead>\n",
       "  <tbody>\n",
       "    <tr>\n",
       "      <th>3</th>\n",
       "      <td>8.0</td>\n",
       "      <td>304.0</td>\n",
       "      <td>150</td>\n",
       "      <td>3433.0</td>\n",
       "      <td>12.0</td>\n",
       "      <td>70.0</td>\n",
       "      <td>0.0</td>\n",
       "      <td>1.0</td>\n",
       "      <td>0.0</td>\n",
       "      <td>0.0</td>\n",
       "    </tr>\n",
       "    <tr>\n",
       "      <th>18</th>\n",
       "      <td>4.0</td>\n",
       "      <td>97.0</td>\n",
       "      <td>88</td>\n",
       "      <td>2130.0</td>\n",
       "      <td>14.5</td>\n",
       "      <td>70.0</td>\n",
       "      <td>1.0</td>\n",
       "      <td>0.0</td>\n",
       "      <td>0.0</td>\n",
       "      <td>0.0</td>\n",
       "    </tr>\n",
       "    <tr>\n",
       "      <th>376</th>\n",
       "      <td>4.0</td>\n",
       "      <td>91.0</td>\n",
       "      <td>68</td>\n",
       "      <td>2025.0</td>\n",
       "      <td>18.2</td>\n",
       "      <td>82.0</td>\n",
       "      <td>1.0</td>\n",
       "      <td>0.0</td>\n",
       "      <td>0.0</td>\n",
       "      <td>0.0</td>\n",
       "    </tr>\n",
       "    <tr>\n",
       "      <th>248</th>\n",
       "      <td>4.0</td>\n",
       "      <td>91.0</td>\n",
       "      <td>60</td>\n",
       "      <td>1800.0</td>\n",
       "      <td>16.4</td>\n",
       "      <td>78.0</td>\n",
       "      <td>1.0</td>\n",
       "      <td>0.0</td>\n",
       "      <td>0.0</td>\n",
       "      <td>0.0</td>\n",
       "    </tr>\n",
       "    <tr>\n",
       "      <th>177</th>\n",
       "      <td>4.0</td>\n",
       "      <td>115.0</td>\n",
       "      <td>95</td>\n",
       "      <td>2694.0</td>\n",
       "      <td>15.0</td>\n",
       "      <td>75.0</td>\n",
       "      <td>1.0</td>\n",
       "      <td>0.0</td>\n",
       "      <td>0.0</td>\n",
       "      <td>0.0</td>\n",
       "    </tr>\n",
       "    <tr>\n",
       "      <th>...</th>\n",
       "      <td>...</td>\n",
       "      <td>...</td>\n",
       "      <td>...</td>\n",
       "      <td>...</td>\n",
       "      <td>...</td>\n",
       "      <td>...</td>\n",
       "      <td>...</td>\n",
       "      <td>...</td>\n",
       "      <td>...</td>\n",
       "      <td>...</td>\n",
       "    </tr>\n",
       "    <tr>\n",
       "      <th>71</th>\n",
       "      <td>3.0</td>\n",
       "      <td>70.0</td>\n",
       "      <td>97</td>\n",
       "      <td>2330.0</td>\n",
       "      <td>13.5</td>\n",
       "      <td>72.0</td>\n",
       "      <td>1.0</td>\n",
       "      <td>0.0</td>\n",
       "      <td>0.0</td>\n",
       "      <td>0.0</td>\n",
       "    </tr>\n",
       "    <tr>\n",
       "      <th>106</th>\n",
       "      <td>8.0</td>\n",
       "      <td>350.0</td>\n",
       "      <td>180</td>\n",
       "      <td>4499.0</td>\n",
       "      <td>12.5</td>\n",
       "      <td>73.0</td>\n",
       "      <td>0.0</td>\n",
       "      <td>1.0</td>\n",
       "      <td>0.0</td>\n",
       "      <td>0.0</td>\n",
       "    </tr>\n",
       "    <tr>\n",
       "      <th>270</th>\n",
       "      <td>4.0</td>\n",
       "      <td>134.0</td>\n",
       "      <td>95</td>\n",
       "      <td>2515.0</td>\n",
       "      <td>14.8</td>\n",
       "      <td>78.0</td>\n",
       "      <td>1.0</td>\n",
       "      <td>0.0</td>\n",
       "      <td>0.0</td>\n",
       "      <td>0.0</td>\n",
       "    </tr>\n",
       "    <tr>\n",
       "      <th>348</th>\n",
       "      <td>4.0</td>\n",
       "      <td>89.0</td>\n",
       "      <td>62</td>\n",
       "      <td>2050.0</td>\n",
       "      <td>17.3</td>\n",
       "      <td>81.0</td>\n",
       "      <td>1.0</td>\n",
       "      <td>0.0</td>\n",
       "      <td>0.0</td>\n",
       "      <td>0.0</td>\n",
       "    </tr>\n",
       "    <tr>\n",
       "      <th>102</th>\n",
       "      <td>4.0</td>\n",
       "      <td>97.0</td>\n",
       "      <td>46</td>\n",
       "      <td>1950.0</td>\n",
       "      <td>21.0</td>\n",
       "      <td>73.0</td>\n",
       "      <td>1.0</td>\n",
       "      <td>0.0</td>\n",
       "      <td>0.0</td>\n",
       "      <td>0.0</td>\n",
       "    </tr>\n",
       "  </tbody>\n",
       "</table>\n",
       "<p>318 rows × 10 columns</p>\n",
       "</div>"
      ],
      "text/plain": [
       "     cyl   disp   hp      wt   acc    yr  car_type  origin_america  \\\n",
       "3    8.0  304.0  150  3433.0  12.0  70.0       0.0             1.0   \n",
       "18   4.0   97.0   88  2130.0  14.5  70.0       1.0             0.0   \n",
       "376  4.0   91.0   68  2025.0  18.2  82.0       1.0             0.0   \n",
       "248  4.0   91.0   60  1800.0  16.4  78.0       1.0             0.0   \n",
       "177  4.0  115.0   95  2694.0  15.0  75.0       1.0             0.0   \n",
       "..   ...    ...  ...     ...   ...   ...       ...             ...   \n",
       "71   3.0   70.0   97  2330.0  13.5  72.0       1.0             0.0   \n",
       "106  8.0  350.0  180  4499.0  12.5  73.0       0.0             1.0   \n",
       "270  4.0  134.0   95  2515.0  14.8  78.0       1.0             0.0   \n",
       "348  4.0   89.0   62  2050.0  17.3  81.0       1.0             0.0   \n",
       "102  4.0   97.0   46  1950.0  21.0  73.0       1.0             0.0   \n",
       "\n",
       "     origin_asia  origin_europe  \n",
       "3            0.0            0.0  \n",
       "18           0.0            0.0  \n",
       "376          0.0            0.0  \n",
       "248          0.0            0.0  \n",
       "177          0.0            0.0  \n",
       "..           ...            ...  \n",
       "71           0.0            0.0  \n",
       "106          0.0            0.0  \n",
       "270          0.0            0.0  \n",
       "348          0.0            0.0  \n",
       "102          0.0            0.0  \n",
       "\n",
       "[318 rows x 10 columns]"
      ]
     },
     "execution_count": 64,
     "metadata": {},
     "output_type": "execute_result"
    }
   ],
   "source": [
    "x=car_df.drop('mpg',axis=1)\n",
    "y=car_df['mpg']\n",
    "x_train,x_test,y_train,y_test=train_test_split(x,y,test_size=0.2,random_state=42,shuffle=True)\n",
    "x_train"
   ]
  },
  {
   "cell_type": "code",
   "execution_count": 65,
   "id": "97bae74f",
   "metadata": {
    "ExecuteTime": {
     "end_time": "2022-12-24T08:58:27.513960Z",
     "start_time": "2022-12-24T08:58:26.560067Z"
    }
   },
   "outputs": [
    {
     "data": {
      "text/plain": [
       "KNeighborsRegressor()"
      ]
     },
     "execution_count": 65,
     "metadata": {},
     "output_type": "execute_result"
    }
   ],
   "source": [
    "knn_model=KNeighborsRegressor()\n",
    "knn_model.fit(x_train,y_train)"
   ]
  },
  {
   "cell_type": "code",
   "execution_count": 66,
   "id": "393a9f25",
   "metadata": {
    "ExecuteTime": {
     "end_time": "2022-12-24T08:58:30.686734Z",
     "start_time": "2022-12-24T08:58:30.665790Z"
    }
   },
   "outputs": [
    {
     "name": "stdout",
     "output_type": "stream",
     "text": [
      "Mean Squared Error : 10.29784976288836\n",
      "**************************************************\n",
      "Root Mean Squared Error : 3.2090262951381936\n",
      "**************************************************\n",
      "Mean Absolute Error : 2.4335759649838757\n",
      "**************************************************\n",
      "R-Squared value : 0.8634833025603618\n"
     ]
    }
   ],
   "source": [
    "#Testing Data\n",
    "\n",
    "y_pred=knn_model.predict(x_test)\n",
    "\n",
    "mse_test=mean_squared_error(y_test,y_pred)\n",
    "print('Mean Squared Error :',mse)\n",
    "print('*'*50)\n",
    "\n",
    "rmse_test=np.sqrt(mse)\n",
    "print('Root Mean Squared Error :',rmse)\n",
    "print('*'*50)\n",
    "\n",
    "mae_test=mean_absolute_error(y_test,y_pred)\n",
    "print('Mean Absolute Error :',mae)\n",
    "print('*'*50)\n",
    "\n",
    "r2_test=r2_score(y_test,y_pred)\n",
    "print('R-Squared value :',r2)"
   ]
  },
  {
   "cell_type": "code",
   "execution_count": 109,
   "id": "d5cfc7a3",
   "metadata": {
    "ExecuteTime": {
     "end_time": "2022-12-18T06:42:13.423115Z",
     "start_time": "2022-12-18T06:42:13.389204Z"
    }
   },
   "outputs": [
    {
     "name": "stdout",
     "output_type": "stream",
     "text": [
      "Mean Squared Error : 10.297849762888362\n",
      "**************************************************\n",
      "Root Mean Squared Error : 3.2090262951381936\n",
      "**************************************************\n",
      "Mean Absolute Error : 2.4335759649838775\n",
      "**************************************************\n",
      "R-Squared value : 0.8634833025603617\n"
     ]
    }
   ],
   "source": [
    "#Training Data Evaluation\n",
    "\n",
    "\n",
    "y_pred_train=knn_model.predict(x_train)\n",
    "\n",
    "mse_train=mean_squared_error(y_train,y_pred_train)\n",
    "print('Mean Squared Error :',mse)\n",
    "print('*'*50)\n",
    "\n",
    "rmse_train=np.sqrt(mse)\n",
    "print('Root Mean Squared Error :',rmse)\n",
    "print('*'*50)\n",
    "\n",
    "mae_train=mean_absolute_error(y_train,y_pred_train)\n",
    "print('Mean Absolute Error :',mae)\n",
    "print('*'*50)\n",
    "\n",
    "r2_train=r2_score(y_train,y_pred_train)\n",
    "print('R-Squared value :',r2)"
   ]
  },
  {
   "cell_type": "code",
   "execution_count": 67,
   "id": "dd941018",
   "metadata": {
    "ExecuteTime": {
     "end_time": "2022-12-24T08:58:43.318171Z",
     "start_time": "2022-12-24T08:58:43.304209Z"
    }
   },
   "outputs": [],
   "source": [
    "result_dict['R Squared value_Train'].append(r2_train)\n",
    "result_dict['R Squared value_Test'].append(r2)\n",
    "index.append(\"KNN Regressor model\")\n"
   ]
  },
  {
   "cell_type": "code",
   "execution_count": 68,
   "id": "5e44a014",
   "metadata": {
    "ExecuteTime": {
     "end_time": "2022-12-24T08:58:44.724668Z",
     "start_time": "2022-12-24T08:58:44.137227Z"
    }
   },
   "outputs": [
    {
     "name": "stdout",
     "output_type": "stream",
     "text": [
      "17.94\n"
     ]
    },
    {
     "name": "stderr",
     "output_type": "stream",
     "text": [
      "D:\\anaconda\\lib\\site-packages\\sklearn\\base.py:450: UserWarning: X does not have valid feature names, but KNeighborsRegressor was fitted with feature names\n",
      "  warnings.warn(\n"
     ]
    }
   ],
   "source": [
    "print(np.around(knn_model.predict([test_array])[0],2))"
   ]
  },
  {
   "cell_type": "code",
   "execution_count": 69,
   "id": "142a9a3e",
   "metadata": {
    "ExecuteTime": {
     "end_time": "2022-12-24T08:58:45.523391Z",
     "start_time": "2022-12-24T08:58:45.509430Z"
    }
   },
   "outputs": [],
   "source": [
    "with open('knn_model.pkl','wb') as f:\n",
    "    pickle.dump(knn_model,f)"
   ]
  },
  {
   "cell_type": "code",
   "execution_count": null,
   "id": "52d3c36f",
   "metadata": {},
   "outputs": [],
   "source": []
  }
 ],
 "metadata": {
  "kernelspec": {
   "display_name": "Python 3 (ipykernel)",
   "language": "python",
   "name": "python3"
  },
  "language_info": {
   "codemirror_mode": {
    "name": "ipython",
    "version": 3
   },
   "file_extension": ".py",
   "mimetype": "text/x-python",
   "name": "python",
   "nbconvert_exporter": "python",
   "pygments_lexer": "ipython3",
   "version": "3.9.12"
  },
  "latex_envs": {
   "LaTeX_envs_menu_present": true,
   "autoclose": false,
   "autocomplete": true,
   "bibliofile": "biblio.bib",
   "cite_by": "apalike",
   "current_citInitial": 1,
   "eqLabelWithNumbers": true,
   "eqNumInitial": 1,
   "hotkeys": {
    "equation": "Ctrl-E",
    "itemize": "Ctrl-I"
   },
   "labels_anchors": false,
   "latex_user_defs": false,
   "report_style_numbering": false,
   "user_envs_cfg": false
  },
  "varInspector": {
   "cols": {
    "lenName": 16,
    "lenType": 16,
    "lenVar": 40
   },
   "kernels_config": {
    "python": {
     "delete_cmd_postfix": "",
     "delete_cmd_prefix": "del ",
     "library": "var_list.py",
     "varRefreshCmd": "print(var_dic_list())"
    },
    "r": {
     "delete_cmd_postfix": ") ",
     "delete_cmd_prefix": "rm(",
     "library": "var_list.r",
     "varRefreshCmd": "cat(var_dic_list()) "
    }
   },
   "types_to_exclude": [
    "module",
    "function",
    "builtin_function_or_method",
    "instance",
    "_Feature"
   ],
   "window_display": false
  }
 },
 "nbformat": 4,
 "nbformat_minor": 5
}
